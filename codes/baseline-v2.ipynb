{
 "cells": [
  {
   "cell_type": "code",
   "execution_count": 38,
   "metadata": {},
   "outputs": [],
   "source": [
    "import pandas as pd\n",
    "import numpy as np\n",
    "import os\n",
    "from tqdm import tqdm\n",
    "import lightgbm as lgb\n",
    "from sklearn.model_selection import StratifiedKFold\n",
    "from sklearn import metrics\n",
    "import matplotlib.pyplot as plt\n",
    "import seaborn as sns\n",
    "import warnings\n",
    "\n",
    "warnings.filterwarnings('ignore')\n",
    "\n",
    "plt.rc('font', family='SimHei', size=13)"
   ]
  },
  {
   "cell_type": "code",
   "execution_count": 4,
   "metadata": {},
   "outputs": [],
   "source": [
    "train_path = 'hy_round1_train_20200102'\n",
    "test_path = 'hy_round1_testA_20200102'"
   ]
  },
  {
   "cell_type": "markdown",
   "metadata": {},
   "source": [
    "## 文件转换"
   ]
  },
  {
   "cell_type": "code",
   "execution_count": 5,
   "metadata": {},
   "outputs": [
    {
     "name": "stdout",
     "output_type": "stream",
     "text": [
      "7000 2000\n"
     ]
    }
   ],
   "source": [
    "train_files = os.listdir(train_path)\n",
    "test_files = os.listdir(test_path)\n",
    "print(len(train_files), len(test_files))"
   ]
  },
  {
   "cell_type": "code",
   "execution_count": 6,
   "metadata": {},
   "outputs": [
    {
     "data": {
      "text/plain": [
       "['0.csv', '1.csv', '10.csv']"
      ]
     },
     "execution_count": 6,
     "metadata": {},
     "output_type": "execute_result"
    }
   ],
   "source": [
    "train_files[:3]"
   ]
  },
  {
   "cell_type": "code",
   "execution_count": 7,
   "metadata": {},
   "outputs": [
    {
     "data": {
      "text/plain": [
       "['7000.csv', '7001.csv', '7002.csv']"
      ]
     },
     "execution_count": 7,
     "metadata": {},
     "output_type": "execute_result"
    }
   ],
   "source": [
    "test_files[:3]"
   ]
  },
  {
   "cell_type": "code",
   "execution_count": 11,
   "metadata": {},
   "outputs": [],
   "source": [
    "df = pd.read_csv(f'{train_path}/10.csv')"
   ]
  },
  {
   "cell_type": "code",
   "execution_count": 12,
   "metadata": {},
   "outputs": [
    {
     "data": {
      "text/html": [
       "<div>\n",
       "<style scoped>\n",
       "    .dataframe tbody tr th:only-of-type {\n",
       "        vertical-align: middle;\n",
       "    }\n",
       "\n",
       "    .dataframe tbody tr th {\n",
       "        vertical-align: top;\n",
       "    }\n",
       "\n",
       "    .dataframe thead th {\n",
       "        text-align: right;\n",
       "    }\n",
       "</style>\n",
       "<table border=\"1\" class=\"dataframe\">\n",
       "  <thead>\n",
       "    <tr style=\"text-align: right;\">\n",
       "      <th></th>\n",
       "      <th>渔船ID</th>\n",
       "      <th>x</th>\n",
       "      <th>y</th>\n",
       "      <th>速度</th>\n",
       "      <th>方向</th>\n",
       "      <th>time</th>\n",
       "      <th>type</th>\n",
       "    </tr>\n",
       "  </thead>\n",
       "  <tbody>\n",
       "    <tr>\n",
       "      <td>0</td>\n",
       "      <td>10</td>\n",
       "      <td>6.321032e+06</td>\n",
       "      <td>5.242805e+06</td>\n",
       "      <td>4.48</td>\n",
       "      <td>213</td>\n",
       "      <td>1110 11:49:36</td>\n",
       "      <td>拖网</td>\n",
       "    </tr>\n",
       "    <tr>\n",
       "      <td>1</td>\n",
       "      <td>10</td>\n",
       "      <td>6.322753e+06</td>\n",
       "      <td>5.244329e+06</td>\n",
       "      <td>3.29</td>\n",
       "      <td>212</td>\n",
       "      <td>1110 11:29:26</td>\n",
       "      <td>拖网</td>\n",
       "    </tr>\n",
       "    <tr>\n",
       "      <td>2</td>\n",
       "      <td>10</td>\n",
       "      <td>6.323664e+06</td>\n",
       "      <td>5.245091e+06</td>\n",
       "      <td>10.09</td>\n",
       "      <td>316</td>\n",
       "      <td>1110 11:19:25</td>\n",
       "      <td>拖网</td>\n",
       "    </tr>\n",
       "    <tr>\n",
       "      <td>3</td>\n",
       "      <td>10</td>\n",
       "      <td>6.324575e+06</td>\n",
       "      <td>5.245852e+06</td>\n",
       "      <td>3.62</td>\n",
       "      <td>226</td>\n",
       "      <td>1110 11:09:26</td>\n",
       "      <td>拖网</td>\n",
       "    </tr>\n",
       "    <tr>\n",
       "      <td>4</td>\n",
       "      <td>10</td>\n",
       "      <td>6.325587e+06</td>\n",
       "      <td>5.246723e+06</td>\n",
       "      <td>3.78</td>\n",
       "      <td>243</td>\n",
       "      <td>1110 10:59:23</td>\n",
       "      <td>拖网</td>\n",
       "    </tr>\n",
       "  </tbody>\n",
       "</table>\n",
       "</div>"
      ],
      "text/plain": [
       "   渔船ID             x             y     速度   方向           time type\n",
       "0    10  6.321032e+06  5.242805e+06   4.48  213  1110 11:49:36   拖网\n",
       "1    10  6.322753e+06  5.244329e+06   3.29  212  1110 11:29:26   拖网\n",
       "2    10  6.323664e+06  5.245091e+06  10.09  316  1110 11:19:25   拖网\n",
       "3    10  6.324575e+06  5.245852e+06   3.62  226  1110 11:09:26   拖网\n",
       "4    10  6.325587e+06  5.246723e+06   3.78  243  1110 10:59:23   拖网"
      ]
     },
     "execution_count": 12,
     "metadata": {},
     "output_type": "execute_result"
    }
   ],
   "source": [
    "df.head()"
   ]
  },
  {
   "cell_type": "code",
   "execution_count": 13,
   "metadata": {},
   "outputs": [
    {
     "data": {
      "text/plain": [
       "array(['拖网'], dtype=object)"
      ]
     },
     "execution_count": 13,
     "metadata": {},
     "output_type": "execute_result"
    }
   ],
   "source": [
    "df['type'].unique()"
   ]
  },
  {
   "cell_type": "code",
   "execution_count": 15,
   "metadata": {},
   "outputs": [
    {
     "data": {
      "text/plain": [
       "array([10], dtype=int64)"
      ]
     },
     "execution_count": 15,
     "metadata": {},
     "output_type": "execute_result"
    }
   ],
   "source": [
    "df['渔船ID'].unique()"
   ]
  },
  {
   "cell_type": "code",
   "execution_count": 14,
   "metadata": {},
   "outputs": [
    {
     "data": {
      "text/plain": [
       "(397, 7)"
      ]
     },
     "execution_count": 14,
     "metadata": {},
     "output_type": "execute_result"
    }
   ],
   "source": [
    "df.shape"
   ]
  },
  {
   "cell_type": "code",
   "execution_count": 18,
   "metadata": {},
   "outputs": [
    {
     "name": "stderr",
     "output_type": "stream",
     "text": [
      "100%|██████████████████████████████████████████████████████████████████████████████| 7000/7000 [01:34<00:00, 73.85it/s]\n"
     ]
    }
   ],
   "source": [
    "ret = []\n",
    "for file in tqdm(train_files):\n",
    "    df = pd.read_csv(f'{train_path}/{file}')\n",
    "    ret.append(df)\n",
    "df = pd.concat(ret)\n",
    "df.columns = ['ship', 'x', 'y', 'v', 'd', 'time', 'type']"
   ]
  },
  {
   "cell_type": "code",
   "execution_count": 19,
   "metadata": {},
   "outputs": [],
   "source": [
    "df.to_hdf('train.h5', 'df', mode='w')"
   ]
  },
  {
   "cell_type": "code",
   "execution_count": 20,
   "metadata": {},
   "outputs": [
    {
     "name": "stderr",
     "output_type": "stream",
     "text": [
      "100%|█████████████████████████████████████████████████████████████████████████████| 2000/2000 [00:15<00:00, 125.24it/s]\n"
     ]
    }
   ],
   "source": [
    "ret = []\n",
    "for line in tqdm(test_files):\n",
    "    df = pd.read_csv(f'{test_path}/{line}')\n",
    "    ret.append(df)\n",
    "df = pd.concat(ret)\n",
    "df.columns = ['ship', 'x', 'y', 'v', 'd', 'time']"
   ]
  },
  {
   "cell_type": "code",
   "execution_count": 21,
   "metadata": {},
   "outputs": [],
   "source": [
    "df.to_hdf('test.h5', 'df', mode='w')"
   ]
  },
  {
   "cell_type": "code",
   "execution_count": 22,
   "metadata": {},
   "outputs": [
    {
     "data": {
      "text/plain": [
       "(782378, 6)"
      ]
     },
     "execution_count": 22,
     "metadata": {},
     "output_type": "execute_result"
    }
   ],
   "source": [
    "df.shape"
   ]
  },
  {
   "cell_type": "code",
   "execution_count": 23,
   "metadata": {},
   "outputs": [
    {
     "data": {
      "text/html": [
       "<div>\n",
       "<style scoped>\n",
       "    .dataframe tbody tr th:only-of-type {\n",
       "        vertical-align: middle;\n",
       "    }\n",
       "\n",
       "    .dataframe tbody tr th {\n",
       "        vertical-align: top;\n",
       "    }\n",
       "\n",
       "    .dataframe thead th {\n",
       "        text-align: right;\n",
       "    }\n",
       "</style>\n",
       "<table border=\"1\" class=\"dataframe\">\n",
       "  <thead>\n",
       "    <tr style=\"text-align: right;\">\n",
       "      <th></th>\n",
       "      <th>ship</th>\n",
       "      <th>x</th>\n",
       "      <th>y</th>\n",
       "      <th>v</th>\n",
       "      <th>d</th>\n",
       "      <th>time</th>\n",
       "    </tr>\n",
       "  </thead>\n",
       "  <tbody>\n",
       "    <tr>\n",
       "      <td>0</td>\n",
       "      <td>7000</td>\n",
       "      <td>7.118845e+06</td>\n",
       "      <td>5.918277e+06</td>\n",
       "      <td>0.11</td>\n",
       "      <td>0</td>\n",
       "      <td>1103 11:54:32</td>\n",
       "    </tr>\n",
       "    <tr>\n",
       "      <td>1</td>\n",
       "      <td>7000</td>\n",
       "      <td>7.118940e+06</td>\n",
       "      <td>5.918285e+06</td>\n",
       "      <td>0.32</td>\n",
       "      <td>346</td>\n",
       "      <td>1103 11:44:32</td>\n",
       "    </tr>\n",
       "    <tr>\n",
       "      <td>2</td>\n",
       "      <td>7000</td>\n",
       "      <td>7.118948e+06</td>\n",
       "      <td>5.918174e+06</td>\n",
       "      <td>0.11</td>\n",
       "      <td>0</td>\n",
       "      <td>1103 11:34:43</td>\n",
       "    </tr>\n",
       "    <tr>\n",
       "      <td>3</td>\n",
       "      <td>7000</td>\n",
       "      <td>7.118948e+06</td>\n",
       "      <td>5.918174e+06</td>\n",
       "      <td>0.11</td>\n",
       "      <td>71</td>\n",
       "      <td>1103 11:14:30</td>\n",
       "    </tr>\n",
       "    <tr>\n",
       "      <td>4</td>\n",
       "      <td>7000</td>\n",
       "      <td>7.118948e+06</td>\n",
       "      <td>5.918174e+06</td>\n",
       "      <td>0.11</td>\n",
       "      <td>30</td>\n",
       "      <td>1103 11:04:46</td>\n",
       "    </tr>\n",
       "  </tbody>\n",
       "</table>\n",
       "</div>"
      ],
      "text/plain": [
       "   ship             x             y     v    d           time\n",
       "0  7000  7.118845e+06  5.918277e+06  0.11    0  1103 11:54:32\n",
       "1  7000  7.118940e+06  5.918285e+06  0.32  346  1103 11:44:32\n",
       "2  7000  7.118948e+06  5.918174e+06  0.11    0  1103 11:34:43\n",
       "3  7000  7.118948e+06  5.918174e+06  0.11   71  1103 11:14:30\n",
       "4  7000  7.118948e+06  5.918174e+06  0.11   30  1103 11:04:46"
      ]
     },
     "execution_count": 23,
     "metadata": {},
     "output_type": "execute_result"
    }
   ],
   "source": [
    "df.head()"
   ]
  },
  {
   "cell_type": "markdown",
   "metadata": {},
   "source": [
    "## 探索性数据分析（EDA）\n",
    "- 数据样本分布（基于类别 围网、拖网、刺网）\n",
    "- 单条样本分布（基于ship下的数据量的分布）"
   ]
  },
  {
   "cell_type": "code",
   "execution_count": 24,
   "metadata": {},
   "outputs": [],
   "source": [
    "type_dict = {'围网':'ww', '拖网':'tw', '刺网':'cw'}"
   ]
  },
  {
   "cell_type": "code",
   "execution_count": 25,
   "metadata": {},
   "outputs": [],
   "source": [
    "train = pd.read_hdf('train.h5')"
   ]
  },
  {
   "cell_type": "code",
   "execution_count": 76,
   "metadata": {},
   "outputs": [],
   "source": [
    "train['type'] = train['type'].map(lambda x : type_dict[x])"
   ]
  },
  {
   "cell_type": "code",
   "execution_count": 63,
   "metadata": {},
   "outputs": [],
   "source": [
    "import scipy.stats as stats\n",
    "def resumetable(df):\n",
    "    print(f\"Dataset Shape: {df.shape}\")\n",
    "    summary = pd.DataFrame(df.dtypes,columns=['dtypes'])\n",
    "    summary = summary.reset_index()\n",
    "    summary['Name'] = summary['index']\n",
    "    summary = summary[['Name','dtypes']]\n",
    "    summary['Missing'] = df.isnull().sum().values    \n",
    "    summary['Uniques'] = df.nunique().values\n",
    "#     summary['First Value'] = df.loc[0].values\n",
    "#     summary['Second Value'] = df.loc[1].values\n",
    "#     summary['Third Value'] = df.loc[2].values\n",
    "\n",
    "    for name in summary['Name'].value_counts().index:\n",
    "        summary.loc[summary['Name'] == name, 'Entropy'] = round(stats.entropy(df[name].value_counts(normalize=True), base=2),2) \n",
    "\n",
    "    return summary"
   ]
  },
  {
   "cell_type": "code",
   "execution_count": 64,
   "metadata": {},
   "outputs": [
    {
     "name": "stdout",
     "output_type": "stream",
     "text": [
      "Dataset Shape: (2699638, 7)\n"
     ]
    },
    {
     "data": {
      "text/html": [
       "<div>\n",
       "<style scoped>\n",
       "    .dataframe tbody tr th:only-of-type {\n",
       "        vertical-align: middle;\n",
       "    }\n",
       "\n",
       "    .dataframe tbody tr th {\n",
       "        vertical-align: top;\n",
       "    }\n",
       "\n",
       "    .dataframe thead th {\n",
       "        text-align: right;\n",
       "    }\n",
       "</style>\n",
       "<table border=\"1\" class=\"dataframe\">\n",
       "  <thead>\n",
       "    <tr style=\"text-align: right;\">\n",
       "      <th></th>\n",
       "      <th>Name</th>\n",
       "      <th>dtypes</th>\n",
       "      <th>Missing</th>\n",
       "      <th>Uniques</th>\n",
       "      <th>Entropy</th>\n",
       "    </tr>\n",
       "  </thead>\n",
       "  <tbody>\n",
       "    <tr>\n",
       "      <td>0</td>\n",
       "      <td>ship</td>\n",
       "      <td>int64</td>\n",
       "      <td>0</td>\n",
       "      <td>7000</td>\n",
       "      <td>12.74</td>\n",
       "    </tr>\n",
       "    <tr>\n",
       "      <td>1</td>\n",
       "      <td>x</td>\n",
       "      <td>float64</td>\n",
       "      <td>0</td>\n",
       "      <td>1064269</td>\n",
       "      <td>15.25</td>\n",
       "    </tr>\n",
       "    <tr>\n",
       "      <td>2</td>\n",
       "      <td>y</td>\n",
       "      <td>float64</td>\n",
       "      <td>0</td>\n",
       "      <td>1059948</td>\n",
       "      <td>15.25</td>\n",
       "    </tr>\n",
       "    <tr>\n",
       "      <td>3</td>\n",
       "      <td>v</td>\n",
       "      <td>float64</td>\n",
       "      <td>0</td>\n",
       "      <td>248</td>\n",
       "      <td>5.21</td>\n",
       "    </tr>\n",
       "    <tr>\n",
       "      <td>4</td>\n",
       "      <td>d</td>\n",
       "      <td>int64</td>\n",
       "      <td>0</td>\n",
       "      <td>361</td>\n",
       "      <td>6.23</td>\n",
       "    </tr>\n",
       "    <tr>\n",
       "      <td>5</td>\n",
       "      <td>time</td>\n",
       "      <td>object</td>\n",
       "      <td>0</td>\n",
       "      <td>1472312</td>\n",
       "      <td>20.29</td>\n",
       "    </tr>\n",
       "    <tr>\n",
       "      <td>6</td>\n",
       "      <td>type</td>\n",
       "      <td>object</td>\n",
       "      <td>0</td>\n",
       "      <td>3</td>\n",
       "      <td>1.32</td>\n",
       "    </tr>\n",
       "  </tbody>\n",
       "</table>\n",
       "</div>"
      ],
      "text/plain": [
       "   Name   dtypes  Missing  Uniques  Entropy\n",
       "0  ship    int64        0     7000    12.74\n",
       "1     x  float64        0  1064269    15.25\n",
       "2     y  float64        0  1059948    15.25\n",
       "3     v  float64        0      248     5.21\n",
       "4     d    int64        0      361     6.23\n",
       "5  time   object        0  1472312    20.29\n",
       "6  type   object        0        3     1.32"
      ]
     },
     "execution_count": 64,
     "metadata": {},
     "output_type": "execute_result"
    }
   ],
   "source": [
    "resumetable(train)"
   ]
  },
  {
   "cell_type": "code",
   "execution_count": 91,
   "metadata": {},
   "outputs": [],
   "source": [
    "x = train.groupby(['ship', 'type']).count().reset_index()"
   ]
  },
  {
   "cell_type": "code",
   "execution_count": 93,
   "metadata": {},
   "outputs": [],
   "source": [
    "x = x.groupby(['type']).count().reset_index()"
   ]
  },
  {
   "cell_type": "markdown",
   "metadata": {},
   "source": [
    "#### 整体样本均衡性"
   ]
  },
  {
   "cell_type": "code",
   "execution_count": 94,
   "metadata": {},
   "outputs": [
    {
     "data": {
      "text/plain": [
       "Text(0.5, 0, 'Category')"
      ]
     },
     "execution_count": 94,
     "metadata": {},
     "output_type": "execute_result"
    },
    {
     "data": {
      "image/png": "[encoded data removed]",
      "text/plain": [
       "<Figure size 576x288 with 1 Axes>"
      ]
     },
     "metadata": {
      "needs_background": "light"
     },
     "output_type": "display_data"
    }
   ],
   "source": [
    "plt.figure(figsize=(8, 4))\n",
    "ax = sns.barplot(x.type, x.ship, alpha=0.8)\n",
    "plt.title('Number of ships per Category')\n",
    "plt.ylabel('Number of items')\n",
    "plt.xlabel('Category')"
   ]
  },
  {
   "cell_type": "markdown",
   "metadata": {},
   "source": [
    "#### 单个样本均衡性"
   ]
  },
  {
   "cell_type": "code",
   "execution_count": 112,
   "metadata": {},
   "outputs": [],
   "source": [
    "y = train.groupby(['ship']).count().reset_index()"
   ]
  },
  {
   "cell_type": "code",
   "execution_count": 113,
   "metadata": {},
   "outputs": [
    {
     "data": {
      "image/png": "[encoded data removed]",
      "text/plain": [
       "<Figure size 432x288 with 1 Axes>"
      ]
     },
     "metadata": {
      "needs_background": "light"
     },
     "output_type": "display_data"
    }
   ],
   "source": [
    "figure,axes=plt.subplots() #得到画板、轴\n",
    "axes.boxplot(y['type'],patch_artist=True) #描点上色\n",
    "plt.show()"
   ]
  },
  {
   "cell_type": "markdown",
   "metadata": {},
   "source": [
    "#### 单样本速度/方向比对"
   ]
  },
  {
   "cell_type": "code",
   "execution_count": 95,
   "metadata": {},
   "outputs": [
    {
     "data": {
      "text/html": [
       "<div>\n",
       "<style scoped>\n",
       "    .dataframe tbody tr th:only-of-type {\n",
       "        vertical-align: middle;\n",
       "    }\n",
       "\n",
       "    .dataframe tbody tr th {\n",
       "        vertical-align: top;\n",
       "    }\n",
       "\n",
       "    .dataframe thead th {\n",
       "        text-align: right;\n",
       "    }\n",
       "</style>\n",
       "<table border=\"1\" class=\"dataframe\">\n",
       "  <thead>\n",
       "    <tr style=\"text-align: right;\">\n",
       "      <th></th>\n",
       "      <th>ship</th>\n",
       "      <th>x</th>\n",
       "      <th>y</th>\n",
       "      <th>v</th>\n",
       "      <th>d</th>\n",
       "      <th>time</th>\n",
       "      <th>type</th>\n",
       "    </tr>\n",
       "  </thead>\n",
       "  <tbody>\n",
       "    <tr>\n",
       "      <td>67</td>\n",
       "      <td>3977</td>\n",
       "      <td>6.674139e+06</td>\n",
       "      <td>5.666981e+06</td>\n",
       "      <td>3.78</td>\n",
       "      <td>107</td>\n",
       "      <td>1123 11:15:02</td>\n",
       "      <td>wei</td>\n",
       "    </tr>\n",
       "    <tr>\n",
       "      <td>411</td>\n",
       "      <td>2660</td>\n",
       "      <td>6.077613e+06</td>\n",
       "      <td>5.042772e+06</td>\n",
       "      <td>2.05</td>\n",
       "      <td>297</td>\n",
       "      <td>1114 13:56:54</td>\n",
       "      <td>tuo</td>\n",
       "    </tr>\n",
       "    <tr>\n",
       "      <td>258</td>\n",
       "      <td>162</td>\n",
       "      <td>6.088793e+06</td>\n",
       "      <td>5.117491e+06</td>\n",
       "      <td>0.11</td>\n",
       "      <td>0</td>\n",
       "      <td>1104 22:42:20</td>\n",
       "      <td>ci</td>\n",
       "    </tr>\n",
       "    <tr>\n",
       "      <td>286</td>\n",
       "      <td>3611</td>\n",
       "      <td>6.656941e+06</td>\n",
       "      <td>5.499806e+06</td>\n",
       "      <td>2.59</td>\n",
       "      <td>159</td>\n",
       "      <td>1104 15:57:38</td>\n",
       "      <td>tuo</td>\n",
       "    </tr>\n",
       "    <tr>\n",
       "      <td>336</td>\n",
       "      <td>6659</td>\n",
       "      <td>6.297438e+06</td>\n",
       "      <td>5.284451e+06</td>\n",
       "      <td>0.00</td>\n",
       "      <td>0</td>\n",
       "      <td>1115 00:30:22</td>\n",
       "      <td>ci</td>\n",
       "    </tr>\n",
       "    <tr>\n",
       "      <td>352</td>\n",
       "      <td>3637</td>\n",
       "      <td>6.246628e+06</td>\n",
       "      <td>5.241369e+06</td>\n",
       "      <td>0.00</td>\n",
       "      <td>0</td>\n",
       "      <td>1114 23:23:25</td>\n",
       "      <td>tuo</td>\n",
       "    </tr>\n",
       "    <tr>\n",
       "      <td>23</td>\n",
       "      <td>3916</td>\n",
       "      <td>6.278794e+06</td>\n",
       "      <td>5.221112e+06</td>\n",
       "      <td>3.99</td>\n",
       "      <td>81</td>\n",
       "      <td>1117 08:00:50</td>\n",
       "      <td>tuo</td>\n",
       "    </tr>\n",
       "    <tr>\n",
       "      <td>84</td>\n",
       "      <td>3327</td>\n",
       "      <td>6.880089e+06</td>\n",
       "      <td>5.597644e+06</td>\n",
       "      <td>2.75</td>\n",
       "      <td>102</td>\n",
       "      <td>1116 21:36:26</td>\n",
       "      <td>wei</td>\n",
       "    </tr>\n",
       "    <tr>\n",
       "      <td>120</td>\n",
       "      <td>6239</td>\n",
       "      <td>6.150581e+06</td>\n",
       "      <td>5.206584e+06</td>\n",
       "      <td>0.22</td>\n",
       "      <td>124</td>\n",
       "      <td>1102 14:45:19</td>\n",
       "      <td>tuo</td>\n",
       "    </tr>\n",
       "    <tr>\n",
       "      <td>765</td>\n",
       "      <td>489</td>\n",
       "      <td>6.102649e+06</td>\n",
       "      <td>5.112536e+06</td>\n",
       "      <td>0.05</td>\n",
       "      <td>0</td>\n",
       "      <td>1120 07:15:09</td>\n",
       "      <td>tuo</td>\n",
       "    </tr>\n",
       "  </tbody>\n",
       "</table>\n",
       "</div>"
      ],
      "text/plain": [
       "     ship             x             y     v    d           time type\n",
       "67   3977  6.674139e+06  5.666981e+06  3.78  107  1123 11:15:02  wei\n",
       "411  2660  6.077613e+06  5.042772e+06  2.05  297  1114 13:56:54  tuo\n",
       "258   162  6.088793e+06  5.117491e+06  0.11    0  1104 22:42:20   ci\n",
       "286  3611  6.656941e+06  5.499806e+06  2.59  159  1104 15:57:38  tuo\n",
       "336  6659  6.297438e+06  5.284451e+06  0.00    0  1115 00:30:22   ci\n",
       "352  3637  6.246628e+06  5.241369e+06  0.00    0  1114 23:23:25  tuo\n",
       "23   3916  6.278794e+06  5.221112e+06  3.99   81  1117 08:00:50  tuo\n",
       "84   3327  6.880089e+06  5.597644e+06  2.75  102  1116 21:36:26  wei\n",
       "120  6239  6.150581e+06  5.206584e+06  0.22  124  1102 14:45:19  tuo\n",
       "765   489  6.102649e+06  5.112536e+06  0.05    0  1120 07:15:09  tuo"
      ]
     },
     "execution_count": 95,
     "metadata": {},
     "output_type": "execute_result"
    }
   ],
   "source": [
    "train.sample(10)"
   ]
  },
  {
   "cell_type": "code",
   "execution_count": 99,
   "metadata": {},
   "outputs": [],
   "source": [
    "ww = train[train['ship'] == 3977]   # 围网"
   ]
  },
  {
   "cell_type": "code",
   "execution_count": 108,
   "metadata": {},
   "outputs": [
    {
     "data": {
      "text/html": [
       "<div>\n",
       "<style scoped>\n",
       "    .dataframe tbody tr th:only-of-type {\n",
       "        vertical-align: middle;\n",
       "    }\n",
       "\n",
       "    .dataframe tbody tr th {\n",
       "        vertical-align: top;\n",
       "    }\n",
       "\n",
       "    .dataframe thead th {\n",
       "        text-align: right;\n",
       "    }\n",
       "</style>\n",
       "<table border=\"1\" class=\"dataframe\">\n",
       "  <thead>\n",
       "    <tr style=\"text-align: right;\">\n",
       "      <th></th>\n",
       "      <th>ship</th>\n",
       "      <th>x</th>\n",
       "      <th>y</th>\n",
       "      <th>v</th>\n",
       "      <th>d</th>\n",
       "      <th>time</th>\n",
       "      <th>type</th>\n",
       "    </tr>\n",
       "  </thead>\n",
       "  <tbody>\n",
       "    <tr>\n",
       "      <td>0</td>\n",
       "      <td>3977</td>\n",
       "      <td>6.791415e+06</td>\n",
       "      <td>5.671452e+06</td>\n",
       "      <td>3.29</td>\n",
       "      <td>71</td>\n",
       "      <td>1123 23:49:38</td>\n",
       "      <td>wei</td>\n",
       "    </tr>\n",
       "    <tr>\n",
       "      <td>1</td>\n",
       "      <td>3977</td>\n",
       "      <td>6.782517e+06</td>\n",
       "      <td>5.672177e+06</td>\n",
       "      <td>3.08</td>\n",
       "      <td>91</td>\n",
       "      <td>1123 23:39:48</td>\n",
       "      <td>wei</td>\n",
       "    </tr>\n",
       "    <tr>\n",
       "      <td>2</td>\n",
       "      <td>3977</td>\n",
       "      <td>6.782517e+06</td>\n",
       "      <td>5.672177e+06</td>\n",
       "      <td>3.08</td>\n",
       "      <td>91</td>\n",
       "      <td>1123 23:29:45</td>\n",
       "      <td>wei</td>\n",
       "    </tr>\n",
       "    <tr>\n",
       "      <td>3</td>\n",
       "      <td>3977</td>\n",
       "      <td>6.782517e+06</td>\n",
       "      <td>5.672177e+06</td>\n",
       "      <td>3.08</td>\n",
       "      <td>91</td>\n",
       "      <td>1123 23:19:59</td>\n",
       "      <td>wei</td>\n",
       "    </tr>\n",
       "    <tr>\n",
       "      <td>4</td>\n",
       "      <td>3977</td>\n",
       "      <td>6.782517e+06</td>\n",
       "      <td>5.672177e+06</td>\n",
       "      <td>3.08</td>\n",
       "      <td>91</td>\n",
       "      <td>1123 23:09:52</td>\n",
       "      <td>wei</td>\n",
       "    </tr>\n",
       "  </tbody>\n",
       "</table>\n",
       "</div>"
      ],
      "text/plain": [
       "   ship             x             y     v   d           time type\n",
       "0  3977  6.791415e+06  5.671452e+06  3.29  71  1123 23:49:38  wei\n",
       "1  3977  6.782517e+06  5.672177e+06  3.08  91  1123 23:39:48  wei\n",
       "2  3977  6.782517e+06  5.672177e+06  3.08  91  1123 23:29:45  wei\n",
       "3  3977  6.782517e+06  5.672177e+06  3.08  91  1123 23:19:59  wei\n",
       "4  3977  6.782517e+06  5.672177e+06  3.08  91  1123 23:09:52  wei"
      ]
     },
     "execution_count": 108,
     "metadata": {},
     "output_type": "execute_result"
    }
   ],
   "source": [
    "ww.head()"
   ]
  },
  {
   "cell_type": "code",
   "execution_count": 100,
   "metadata": {},
   "outputs": [
    {
     "data": {
      "text/plain": [
       "[<matplotlib.lines.Line2D at 0x1c587bade48>]"
      ]
     },
     "execution_count": 100,
     "metadata": {},
     "output_type": "execute_result"
    },
    {
     "data": {
      "image/png": "[encoded data removed]",
      "text/plain": [
       "<Figure size 432x288 with 1 Axes>"
      ]
     },
     "metadata": {
      "needs_background": "light"
     },
     "output_type": "display_data"
    }
   ],
   "source": [
    "plt.plot(ww['v'])  # 围网"
   ]
  },
  {
   "cell_type": "code",
   "execution_count": 101,
   "metadata": {},
   "outputs": [
    {
     "data": {
      "text/plain": [
       "[<matplotlib.lines.Line2D at 0x1c587c4cb48>]"
      ]
     },
     "execution_count": 101,
     "metadata": {},
     "output_type": "execute_result"
    },
    {
     "data": {
      "image/png": "[encoded data removed]",
      "text/plain": [
       "<Figure size 432x288 with 1 Axes>"
      ]
     },
     "metadata": {
      "needs_background": "light"
     },
     "output_type": "display_data"
    }
   ],
   "source": [
    "plt.plot(ww['d'])  # 围网"
   ]
  },
  {
   "cell_type": "code",
   "execution_count": 102,
   "metadata": {},
   "outputs": [],
   "source": [
    "# 拖网\n",
    "tw = train[train['ship'] == 2660]  "
   ]
  },
  {
   "cell_type": "code",
   "execution_count": 103,
   "metadata": {},
   "outputs": [
    {
     "data": {
      "text/plain": [
       "[<matplotlib.lines.Line2D at 0x1c587cd8dc8>]"
      ]
     },
     "execution_count": 103,
     "metadata": {},
     "output_type": "execute_result"
    },
    {
     "data": {
      "image/png": "[encoded data removed]",
      "text/plain": [
       "<Figure size 432x288 with 1 Axes>"
      ]
     },
     "metadata": {
      "needs_background": "light"
     },
     "output_type": "display_data"
    }
   ],
   "source": [
    "plt.plot(tw['v'])"
   ]
  },
  {
   "cell_type": "code",
   "execution_count": 104,
   "metadata": {},
   "outputs": [
    {
     "data": {
      "text/plain": [
       "[<matplotlib.lines.Line2D at 0x1c587d5ca48>]"
      ]
     },
     "execution_count": 104,
     "metadata": {},
     "output_type": "execute_result"
    },
    {
     "data": {
      "image/png": "[encoded data removed]",
      "text/plain": [
       "<Figure size 432x288 with 1 Axes>"
      ]
     },
     "metadata": {
      "needs_background": "light"
     },
     "output_type": "display_data"
    }
   ],
   "source": [
    "plt.plot(tw['d'])"
   ]
  },
  {
   "cell_type": "code",
   "execution_count": 105,
   "metadata": {},
   "outputs": [],
   "source": [
    "# 刺网\n",
    "cw = train[train['ship'] == 162]"
   ]
  },
  {
   "cell_type": "code",
   "execution_count": 106,
   "metadata": {},
   "outputs": [
    {
     "data": {
      "text/plain": [
       "[<matplotlib.lines.Line2D at 0x1c587ea0d08>]"
      ]
     },
     "execution_count": 106,
     "metadata": {},
     "output_type": "execute_result"
    },
    {
     "data": {
      "image/png": "[encoded data removed]",
      "text/plain": [
       "<Figure size 432x288 with 1 Axes>"
      ]
     },
     "metadata": {
      "needs_background": "light"
     },
     "output_type": "display_data"
    }
   ],
   "source": [
    "plt.plot(cw['v'])"
   ]
  },
  {
   "cell_type": "code",
   "execution_count": 107,
   "metadata": {},
   "outputs": [
    {
     "data": {
      "text/plain": [
       "[<matplotlib.lines.Line2D at 0x1c587db2b88>]"
      ]
     },
     "execution_count": 107,
     "metadata": {},
     "output_type": "execute_result"
    },
    {
     "data": {
      "image/png": "[encoded data removed]",
      "text/plain": [
       "<Figure size 432x288 with 1 Axes>"
      ]
     },
     "metadata": {
      "needs_background": "light"
     },
     "output_type": "display_data"
    }
   ],
   "source": [
    "plt.plot(cw['d'])"
   ]
  },
  {
   "cell_type": "code",
   "execution_count": 117,
   "metadata": {},
   "outputs": [],
   "source": [
    "def show_path(type_name):\n",
    "    ids = train[train['type'] == type_name]['ship'].unique()      # get the ship\n",
    "    ids = [ids[np.random.randint(len(ids))] for _ in range(10)]   # random choice 10 ships\n",
    "    # condition filter\n",
    "    t = train[train['ship'].isin(ids)] \n",
    "    \n",
    "    f, ax = plt.subplots(5, 2, figsize=(8, 20))\n",
    "    for index, cur_id in enumerate(ids):\n",
    "        cur = t[t['ship'] == cur_id]\n",
    "        i = index // 2\n",
    "        j = index % 2 \n",
    "        ax[i,j].plot(cur['x'], cur['y'])\n",
    "        ax[i,j].set_title(cur_id)"
   ]
  },
  {
   "cell_type": "code",
   "execution_count": 118,
   "metadata": {},
   "outputs": [
    {
     "data": {
      "text/html": [
       "<div>\n",
       "<style scoped>\n",
       "    .dataframe tbody tr th:only-of-type {\n",
       "        vertical-align: middle;\n",
       "    }\n",
       "\n",
       "    .dataframe tbody tr th {\n",
       "        vertical-align: top;\n",
       "    }\n",
       "\n",
       "    .dataframe thead th {\n",
       "        text-align: right;\n",
       "    }\n",
       "</style>\n",
       "<table border=\"1\" class=\"dataframe\">\n",
       "  <thead>\n",
       "    <tr style=\"text-align: right;\">\n",
       "      <th></th>\n",
       "      <th>ship</th>\n",
       "      <th>x</th>\n",
       "      <th>y</th>\n",
       "      <th>v</th>\n",
       "      <th>d</th>\n",
       "      <th>time</th>\n",
       "      <th>type</th>\n",
       "    </tr>\n",
       "  </thead>\n",
       "  <tbody>\n",
       "    <tr>\n",
       "      <td>0</td>\n",
       "      <td>2963</td>\n",
       "      <td>6.315982e+06</td>\n",
       "      <td>5.291346e+06</td>\n",
       "      <td>0.0</td>\n",
       "      <td>0</td>\n",
       "      <td>1120 23:57:26</td>\n",
       "      <td>wei</td>\n",
       "    </tr>\n",
       "    <tr>\n",
       "      <td>1</td>\n",
       "      <td>2963</td>\n",
       "      <td>6.315982e+06</td>\n",
       "      <td>5.291346e+06</td>\n",
       "      <td>0.0</td>\n",
       "      <td>0</td>\n",
       "      <td>1120 23:47:26</td>\n",
       "      <td>wei</td>\n",
       "    </tr>\n",
       "    <tr>\n",
       "      <td>2</td>\n",
       "      <td>2963</td>\n",
       "      <td>6.315982e+06</td>\n",
       "      <td>5.291346e+06</td>\n",
       "      <td>0.0</td>\n",
       "      <td>0</td>\n",
       "      <td>1120 23:37:26</td>\n",
       "      <td>wei</td>\n",
       "    </tr>\n",
       "    <tr>\n",
       "      <td>3</td>\n",
       "      <td>2963</td>\n",
       "      <td>6.315982e+06</td>\n",
       "      <td>5.291346e+06</td>\n",
       "      <td>0.0</td>\n",
       "      <td>0</td>\n",
       "      <td>1120 23:27:26</td>\n",
       "      <td>wei</td>\n",
       "    </tr>\n",
       "    <tr>\n",
       "      <td>4</td>\n",
       "      <td>2963</td>\n",
       "      <td>6.315982e+06</td>\n",
       "      <td>5.291346e+06</td>\n",
       "      <td>0.0</td>\n",
       "      <td>0</td>\n",
       "      <td>1120 23:17:26</td>\n",
       "      <td>wei</td>\n",
       "    </tr>\n",
       "    <tr>\n",
       "      <td>...</td>\n",
       "      <td>...</td>\n",
       "      <td>...</td>\n",
       "      <td>...</td>\n",
       "      <td>...</td>\n",
       "      <td>...</td>\n",
       "      <td>...</td>\n",
       "      <td>...</td>\n",
       "    </tr>\n",
       "    <tr>\n",
       "      <td>422</td>\n",
       "      <td>2963</td>\n",
       "      <td>6.315982e+06</td>\n",
       "      <td>5.291346e+06</td>\n",
       "      <td>0.0</td>\n",
       "      <td>0</td>\n",
       "      <td>1118 00:47:43</td>\n",
       "      <td>wei</td>\n",
       "    </tr>\n",
       "    <tr>\n",
       "      <td>423</td>\n",
       "      <td>2963</td>\n",
       "      <td>6.315982e+06</td>\n",
       "      <td>5.291346e+06</td>\n",
       "      <td>0.0</td>\n",
       "      <td>0</td>\n",
       "      <td>1118 00:37:43</td>\n",
       "      <td>wei</td>\n",
       "    </tr>\n",
       "    <tr>\n",
       "      <td>424</td>\n",
       "      <td>2963</td>\n",
       "      <td>6.315982e+06</td>\n",
       "      <td>5.291346e+06</td>\n",
       "      <td>0.0</td>\n",
       "      <td>0</td>\n",
       "      <td>1118 00:27:43</td>\n",
       "      <td>wei</td>\n",
       "    </tr>\n",
       "    <tr>\n",
       "      <td>425</td>\n",
       "      <td>2963</td>\n",
       "      <td>6.315982e+06</td>\n",
       "      <td>5.291346e+06</td>\n",
       "      <td>0.0</td>\n",
       "      <td>0</td>\n",
       "      <td>1118 00:17:43</td>\n",
       "      <td>wei</td>\n",
       "    </tr>\n",
       "    <tr>\n",
       "      <td>426</td>\n",
       "      <td>2963</td>\n",
       "      <td>6.315982e+06</td>\n",
       "      <td>5.291346e+06</td>\n",
       "      <td>0.0</td>\n",
       "      <td>0</td>\n",
       "      <td>1118 00:08:41</td>\n",
       "      <td>wei</td>\n",
       "    </tr>\n",
       "  </tbody>\n",
       "</table>\n",
       "<p>427 rows × 7 columns</p>\n",
       "</div>"
      ],
      "text/plain": [
       "     ship             x             y    v  d           time type\n",
       "0    2963  6.315982e+06  5.291346e+06  0.0  0  1120 23:57:26  wei\n",
       "1    2963  6.315982e+06  5.291346e+06  0.0  0  1120 23:47:26  wei\n",
       "2    2963  6.315982e+06  5.291346e+06  0.0  0  1120 23:37:26  wei\n",
       "3    2963  6.315982e+06  5.291346e+06  0.0  0  1120 23:27:26  wei\n",
       "4    2963  6.315982e+06  5.291346e+06  0.0  0  1120 23:17:26  wei\n",
       "..    ...           ...           ...  ... ..            ...  ...\n",
       "422  2963  6.315982e+06  5.291346e+06  0.0  0  1118 00:47:43  wei\n",
       "423  2963  6.315982e+06  5.291346e+06  0.0  0  1118 00:37:43  wei\n",
       "424  2963  6.315982e+06  5.291346e+06  0.0  0  1118 00:27:43  wei\n",
       "425  2963  6.315982e+06  5.291346e+06  0.0  0  1118 00:17:43  wei\n",
       "426  2963  6.315982e+06  5.291346e+06  0.0  0  1118 00:08:41  wei\n",
       "\n",
       "[427 rows x 7 columns]"
      ]
     },
     "execution_count": 118,
     "metadata": {},
     "output_type": "execute_result"
    }
   ],
   "source": [
    "train[train['ship'] == 2963]"
   ]
  },
  {
   "cell_type": "code",
   "execution_count": 119,
   "metadata": {},
   "outputs": [
    {
     "data": {
      "image/png": "[encoded data removed]",
      "text/plain": [
       "<Figure size 576x1440 with 10 Axes>"
      ]
     },
     "metadata": {
      "needs_background": "light"
     },
     "output_type": "display_data"
    }
   ],
   "source": [
    "show_path('wei')"
   ]
  },
  {
   "cell_type": "code",
   "execution_count": 120,
   "metadata": {},
   "outputs": [
    {
     "data": {
      "image/png": "[encoded data removed]",
      "text/plain": [
       "<Figure size 576x1440 with 10 Axes>"
      ]
     },
     "metadata": {
      "needs_background": "light"
     },
     "output_type": "display_data"
    }
   ],
   "source": [
    "show_path('tuo')"
   ]
  },
  {
   "cell_type": "code",
   "execution_count": 121,
   "metadata": {},
   "outputs": [
    {
     "data": {
      "image/png": "[encoded data removed]",
      "text/plain": [
       "<Figure size 576x1440 with 10 Axes>"
      ]
     },
     "metadata": {
      "needs_background": "light"
     },
     "output_type": "display_data"
    }
   ],
   "source": [
    "show_path('ci')"
   ]
  },
  {
   "cell_type": "code",
   "execution_count": 234,
   "metadata": {},
   "outputs": [],
   "source": [
    "# 解析时间\n",
    "def extract_dt(df):\n",
    "    df['time'] = pd.to_datetime(df['time'], format='%m%d %H:%M:%S')\n",
    "    df['month'] = df['time'].dt.month\n",
    "    df['day'] = df['time'].dt.day\n",
    "    df['date'] = df['time'].dt.date\n",
    "    df['hour'] = df['time'].dt.hour\n",
    "    df['weekday'] = df['time'].dt.weekday\n",
    "    return df"
   ]
  },
  {
   "cell_type": "code",
   "execution_count": 178,
   "metadata": {},
   "outputs": [],
   "source": [
    "def group_feature(df, key, target, aggs):\n",
    "    agg_dict = {}\n",
    "    for ag in aggs:\n",
    "        agg_dict[f'{target}_{ag}'] = ag\n",
    "    print(agg_dict)\n",
    "    t = df.groupby(key)[target].agg(agg_dict).reset_index()\n",
    "    return t"
   ]
  },
  {
   "cell_type": "code",
   "execution_count": 316,
   "metadata": {},
   "outputs": [],
   "source": [
    "test_distance = pd.read_csv('hy_round1_train_20200102/10.csv')"
   ]
  },
  {
   "cell_type": "code",
   "execution_count": 317,
   "metadata": {},
   "outputs": [],
   "source": [
    "test_distance['time'] = test_distance['time'].apply(lambda x: datetime.datetime.strptime(x, '%m%d %H:%M:%S'))"
   ]
  },
  {
   "cell_type": "code",
   "execution_count": 318,
   "metadata": {},
   "outputs": [],
   "source": [
    "test_distance['type'] = test_distance['type'].map({'围网':0, '刺网':1, '拖网':2})"
   ]
  },
  {
   "cell_type": "code",
   "execution_count": 319,
   "metadata": {},
   "outputs": [],
   "source": [
    "test_distance = test_distance.sort_values('time')"
   ]
  },
  {
   "cell_type": "code",
   "execution_count": 320,
   "metadata": {},
   "outputs": [],
   "source": [
    "diff_distance = test_distance.diff(1).iloc[1:]"
   ]
  },
  {
   "cell_type": "code",
   "execution_count": 305,
   "metadata": {},
   "outputs": [
    {
     "data": {
      "text/html": [
       "<div>\n",
       "<style scoped>\n",
       "    .dataframe tbody tr th:only-of-type {\n",
       "        vertical-align: middle;\n",
       "    }\n",
       "\n",
       "    .dataframe tbody tr th {\n",
       "        vertical-align: top;\n",
       "    }\n",
       "\n",
       "    .dataframe thead th {\n",
       "        text-align: right;\n",
       "    }\n",
       "</style>\n",
       "<table border=\"1\" class=\"dataframe\">\n",
       "  <thead>\n",
       "    <tr style=\"text-align: right;\">\n",
       "      <th></th>\n",
       "      <th>渔船ID</th>\n",
       "      <th>x</th>\n",
       "      <th>y</th>\n",
       "      <th>速度</th>\n",
       "      <th>方向</th>\n",
       "      <th>time</th>\n",
       "      <th>type</th>\n",
       "    </tr>\n",
       "  </thead>\n",
       "  <tbody>\n",
       "    <tr>\n",
       "      <td>395</td>\n",
       "      <td>0.0</td>\n",
       "      <td>-1.005954</td>\n",
       "      <td>-109.422848</td>\n",
       "      <td>-0.10</td>\n",
       "      <td>50.0</td>\n",
       "      <td>00:09:42</td>\n",
       "      <td>0.0</td>\n",
       "    </tr>\n",
       "    <tr>\n",
       "      <td>394</td>\n",
       "      <td>0.0</td>\n",
       "      <td>0.000000</td>\n",
       "      <td>0.000000</td>\n",
       "      <td>-0.11</td>\n",
       "      <td>154.0</td>\n",
       "      <td>00:10:07</td>\n",
       "      <td>0.0</td>\n",
       "    </tr>\n",
       "    <tr>\n",
       "      <td>393</td>\n",
       "      <td>0.0</td>\n",
       "      <td>1.005954</td>\n",
       "      <td>109.422848</td>\n",
       "      <td>0.21</td>\n",
       "      <td>126.0</td>\n",
       "      <td>00:09:36</td>\n",
       "      <td>0.0</td>\n",
       "    </tr>\n",
       "    <tr>\n",
       "      <td>392</td>\n",
       "      <td>0.0</td>\n",
       "      <td>-1.005954</td>\n",
       "      <td>-109.422848</td>\n",
       "      <td>-0.21</td>\n",
       "      <td>-239.0</td>\n",
       "      <td>00:10:00</td>\n",
       "      <td>0.0</td>\n",
       "    </tr>\n",
       "    <tr>\n",
       "      <td>391</td>\n",
       "      <td>0.0</td>\n",
       "      <td>1.005954</td>\n",
       "      <td>109.422848</td>\n",
       "      <td>0.21</td>\n",
       "      <td>-91.0</td>\n",
       "      <td>00:10:01</td>\n",
       "      <td>0.0</td>\n",
       "    </tr>\n",
       "  </tbody>\n",
       "</table>\n",
       "</div>"
      ],
      "text/plain": [
       "     渔船ID         x           y    速度     方向     time  type\n",
       "395   0.0 -1.005954 -109.422848 -0.10   50.0 00:09:42   0.0\n",
       "394   0.0  0.000000    0.000000 -0.11  154.0 00:10:07   0.0\n",
       "393   0.0  1.005954  109.422848  0.21  126.0 00:09:36   0.0\n",
       "392   0.0 -1.005954 -109.422848 -0.21 -239.0 00:10:00   0.0\n",
       "391   0.0  1.005954  109.422848  0.21  -91.0 00:10:01   0.0"
      ]
     },
     "execution_count": 305,
     "metadata": {},
     "output_type": "execute_result"
    }
   ],
   "source": [
    "diff_distance.head(5)"
   ]
  },
  {
   "cell_type": "code",
   "execution_count": 321,
   "metadata": {},
   "outputs": [],
   "source": [
    "diff_distance['time_seconds'] = diff_distance['time'].dt.total_seconds()\n",
    "diff_distance['dis'] = np.sqrt(diff_distance['x']**2 + test_distance['y']**2)"
   ]
  },
  {
   "cell_type": "code",
   "execution_count": 322,
   "metadata": {},
   "outputs": [
    {
     "data": {
      "text/html": [
       "<div>\n",
       "<style scoped>\n",
       "    .dataframe tbody tr th:only-of-type {\n",
       "        vertical-align: middle;\n",
       "    }\n",
       "\n",
       "    .dataframe tbody tr th {\n",
       "        vertical-align: top;\n",
       "    }\n",
       "\n",
       "    .dataframe thead th {\n",
       "        text-align: right;\n",
       "    }\n",
       "</style>\n",
       "<table border=\"1\" class=\"dataframe\">\n",
       "  <thead>\n",
       "    <tr style=\"text-align: right;\">\n",
       "      <th></th>\n",
       "      <th>渔船ID</th>\n",
       "      <th>x</th>\n",
       "      <th>y</th>\n",
       "      <th>速度</th>\n",
       "      <th>方向</th>\n",
       "      <th>time</th>\n",
       "      <th>type</th>\n",
       "      <th>time_seconds</th>\n",
       "      <th>dis</th>\n",
       "    </tr>\n",
       "  </thead>\n",
       "  <tbody>\n",
       "    <tr>\n",
       "      <td>395</td>\n",
       "      <td>0.0</td>\n",
       "      <td>-1.005954</td>\n",
       "      <td>-109.422848</td>\n",
       "      <td>-0.10</td>\n",
       "      <td>50.0</td>\n",
       "      <td>00:09:42</td>\n",
       "      <td>0.0</td>\n",
       "      <td>582.0</td>\n",
       "      <td>5.240828e+06</td>\n",
       "    </tr>\n",
       "    <tr>\n",
       "      <td>394</td>\n",
       "      <td>0.0</td>\n",
       "      <td>0.000000</td>\n",
       "      <td>0.000000</td>\n",
       "      <td>-0.11</td>\n",
       "      <td>154.0</td>\n",
       "      <td>00:10:07</td>\n",
       "      <td>0.0</td>\n",
       "      <td>607.0</td>\n",
       "      <td>5.240828e+06</td>\n",
       "    </tr>\n",
       "    <tr>\n",
       "      <td>393</td>\n",
       "      <td>0.0</td>\n",
       "      <td>1.005954</td>\n",
       "      <td>109.422848</td>\n",
       "      <td>0.21</td>\n",
       "      <td>126.0</td>\n",
       "      <td>00:09:36</td>\n",
       "      <td>0.0</td>\n",
       "      <td>576.0</td>\n",
       "      <td>5.240937e+06</td>\n",
       "    </tr>\n",
       "    <tr>\n",
       "      <td>392</td>\n",
       "      <td>0.0</td>\n",
       "      <td>-1.005954</td>\n",
       "      <td>-109.422848</td>\n",
       "      <td>-0.21</td>\n",
       "      <td>-239.0</td>\n",
       "      <td>00:10:00</td>\n",
       "      <td>0.0</td>\n",
       "      <td>600.0</td>\n",
       "      <td>5.240828e+06</td>\n",
       "    </tr>\n",
       "    <tr>\n",
       "      <td>391</td>\n",
       "      <td>0.0</td>\n",
       "      <td>1.005954</td>\n",
       "      <td>109.422848</td>\n",
       "      <td>0.21</td>\n",
       "      <td>-91.0</td>\n",
       "      <td>00:10:01</td>\n",
       "      <td>0.0</td>\n",
       "      <td>601.0</td>\n",
       "      <td>5.240937e+06</td>\n",
       "    </tr>\n",
       "  </tbody>\n",
       "</table>\n",
       "</div>"
      ],
      "text/plain": [
       "     渔船ID         x           y    速度     方向     time  type  time_seconds  \\\n",
       "395   0.0 -1.005954 -109.422848 -0.10   50.0 00:09:42   0.0         582.0   \n",
       "394   0.0  0.000000    0.000000 -0.11  154.0 00:10:07   0.0         607.0   \n",
       "393   0.0  1.005954  109.422848  0.21  126.0 00:09:36   0.0         576.0   \n",
       "392   0.0 -1.005954 -109.422848 -0.21 -239.0 00:10:00   0.0         600.0   \n",
       "391   0.0  1.005954  109.422848  0.21  -91.0 00:10:01   0.0         601.0   \n",
       "\n",
       "              dis  \n",
       "395  5.240828e+06  \n",
       "394  5.240828e+06  \n",
       "393  5.240937e+06  \n",
       "392  5.240828e+06  \n",
       "391  5.240937e+06  "
      ]
     },
     "execution_count": 322,
     "metadata": {},
     "output_type": "execute_result"
    }
   ],
   "source": [
    "diff_distance.head(5)"
   ]
  },
  {
   "cell_type": "code",
   "execution_count": 329,
   "metadata": {},
   "outputs": [],
   "source": [
    "# 计算斜率\n",
    "import math\n",
    "diff_distance['slope'] = diff_distance['y'] / diff_distance['x'].apply(lambda x: 1.0 if math.isclose(0.0, x) else x)"
   ]
  },
  {
   "cell_type": "code",
   "execution_count": 330,
   "metadata": {},
   "outputs": [],
   "source": [
    "# 计算速度\n",
    "diff_distance['aspeed'] = diff_distance['dis'] / diff_distance['time_seconds']"
   ]
  },
  {
   "cell_type": "code",
   "execution_count": 331,
   "metadata": {},
   "outputs": [
    {
     "data": {
      "text/html": [
       "<div>\n",
       "<style scoped>\n",
       "    .dataframe tbody tr th:only-of-type {\n",
       "        vertical-align: middle;\n",
       "    }\n",
       "\n",
       "    .dataframe tbody tr th {\n",
       "        vertical-align: top;\n",
       "    }\n",
       "\n",
       "    .dataframe thead th {\n",
       "        text-align: right;\n",
       "    }\n",
       "</style>\n",
       "<table border=\"1\" class=\"dataframe\">\n",
       "  <thead>\n",
       "    <tr style=\"text-align: right;\">\n",
       "      <th></th>\n",
       "      <th>渔船ID</th>\n",
       "      <th>x</th>\n",
       "      <th>y</th>\n",
       "      <th>速度</th>\n",
       "      <th>方向</th>\n",
       "      <th>time</th>\n",
       "      <th>type</th>\n",
       "      <th>time_seconds</th>\n",
       "      <th>dis</th>\n",
       "      <th>slope</th>\n",
       "      <th>speed</th>\n",
       "    </tr>\n",
       "  </thead>\n",
       "  <tbody>\n",
       "    <tr>\n",
       "      <td>395</td>\n",
       "      <td>0.0</td>\n",
       "      <td>-1.005954</td>\n",
       "      <td>-109.422848</td>\n",
       "      <td>-0.10</td>\n",
       "      <td>50.0</td>\n",
       "      <td>00:09:42</td>\n",
       "      <td>0.0</td>\n",
       "      <td>582.0</td>\n",
       "      <td>5.240828e+06</td>\n",
       "      <td>108.775151</td>\n",
       "      <td>9004.859206</td>\n",
       "    </tr>\n",
       "    <tr>\n",
       "      <td>394</td>\n",
       "      <td>0.0</td>\n",
       "      <td>0.000000</td>\n",
       "      <td>0.000000</td>\n",
       "      <td>-0.11</td>\n",
       "      <td>154.0</td>\n",
       "      <td>00:10:07</td>\n",
       "      <td>0.0</td>\n",
       "      <td>607.0</td>\n",
       "      <td>5.240828e+06</td>\n",
       "      <td>0.000000</td>\n",
       "      <td>8633.983621</td>\n",
       "    </tr>\n",
       "    <tr>\n",
       "      <td>393</td>\n",
       "      <td>0.0</td>\n",
       "      <td>1.005954</td>\n",
       "      <td>109.422848</td>\n",
       "      <td>0.21</td>\n",
       "      <td>126.0</td>\n",
       "      <td>00:09:36</td>\n",
       "      <td>0.0</td>\n",
       "      <td>576.0</td>\n",
       "      <td>5.240937e+06</td>\n",
       "      <td>108.775151</td>\n",
       "      <td>9098.849793</td>\n",
       "    </tr>\n",
       "    <tr>\n",
       "      <td>392</td>\n",
       "      <td>0.0</td>\n",
       "      <td>-1.005954</td>\n",
       "      <td>-109.422848</td>\n",
       "      <td>-0.21</td>\n",
       "      <td>-239.0</td>\n",
       "      <td>00:10:00</td>\n",
       "      <td>0.0</td>\n",
       "      <td>600.0</td>\n",
       "      <td>5.240828e+06</td>\n",
       "      <td>108.775151</td>\n",
       "      <td>8734.713430</td>\n",
       "    </tr>\n",
       "    <tr>\n",
       "      <td>391</td>\n",
       "      <td>0.0</td>\n",
       "      <td>1.005954</td>\n",
       "      <td>109.422848</td>\n",
       "      <td>0.21</td>\n",
       "      <td>-91.0</td>\n",
       "      <td>00:10:01</td>\n",
       "      <td>0.0</td>\n",
       "      <td>601.0</td>\n",
       "      <td>5.240937e+06</td>\n",
       "      <td>108.775151</td>\n",
       "      <td>8720.361865</td>\n",
       "    </tr>\n",
       "  </tbody>\n",
       "</table>\n",
       "</div>"
      ],
      "text/plain": [
       "     渔船ID         x           y    速度     方向     time  type  time_seconds  \\\n",
       "395   0.0 -1.005954 -109.422848 -0.10   50.0 00:09:42   0.0         582.0   \n",
       "394   0.0  0.000000    0.000000 -0.11  154.0 00:10:07   0.0         607.0   \n",
       "393   0.0  1.005954  109.422848  0.21  126.0 00:09:36   0.0         576.0   \n",
       "392   0.0 -1.005954 -109.422848 -0.21 -239.0 00:10:00   0.0         600.0   \n",
       "391   0.0  1.005954  109.422848  0.21  -91.0 00:10:01   0.0         601.0   \n",
       "\n",
       "              dis       slope        speed  \n",
       "395  5.240828e+06  108.775151  9004.859206  \n",
       "394  5.240828e+06    0.000000  8633.983621  \n",
       "393  5.240937e+06  108.775151  9098.849793  \n",
       "392  5.240828e+06  108.775151  8734.713430  \n",
       "391  5.240937e+06  108.775151  8720.361865  "
      ]
     },
     "execution_count": 331,
     "metadata": {},
     "output_type": "execute_result"
    }
   ],
   "source": [
    "diff_distance.head(5)"
   ]
  },
  {
   "cell_type": "code",
   "execution_count": 179,
   "metadata": {},
   "outputs": [],
   "source": [
    "def extract_feature(df, train):\n",
    "    # df: data, key: feature row, target: , aggs: twice feature.\n",
    "    # skew: 偏度，是统计数据分布偏斜方向的程度的度量，是统计数据分布非对称程度的数字特征。\n",
    "    # $skew(X)=E(\\frac{X-\\mu}{\\sigma}^3)$\n",
    "    t = group_feature(df, 'ship', 'x', ['max', 'min', 'mean', 'std', 'skew', 'sum', 'count'])\n",
    "    train = pd.merge(train, t, on='ship', how='left')\n",
    "    t = group_feature(df, 'ship','y',['max','min','mean','std','skew','sum'])\n",
    "    train = pd.merge(train, t, on='ship', how='left')\n",
    "    t = group_feature(df, 'ship','v',['max','min','mean','std','skew','sum'])\n",
    "    train = pd.merge(train, t, on='ship', how='left')\n",
    "    t = group_feature(df, 'ship','d',['max','min','mean','std','skew','sum'])\n",
    "    train = pd.merge(train, t, on='ship', how='left')\n",
    "    \n",
    "    # 区域确定\n",
    "    train['x_max_x_min'] = train['x_max'] - train['x_min']\n",
    "    train['y_max_y_min'] = train['y_max'] - train['y_min']\n",
    "    train['y_max_x_min'] = train['y_max'] - train['x_min']\n",
    "    train['x_max_y_min'] = train['x_max'] - train['y_min']\n",
    "    \n",
    "    # 坡度和面积\n",
    "    train['slope'] = train['y_max_y_min'] / np.where(train['x_max_x_min']==0, 0.001, train['x_max_x_min'])\n",
    "    train['area'] = train['x_max_x_min'] * train['y_max_y_min']\n",
    "    \n",
    "    # 路程\n",
    "    df_diff = df.diff(1).iloc[1:]\n",
    "    df_diff['time_seconds'] = df_diff['time'].dt.total_seconds()\n",
    "    df_diff['dis'] = np.sqrt(df_diff['x']**2 + df_diff['y']**2)\n",
    "    \n",
    "    # value_counts()函数可以对Series里面的每个值进行计数并且排序\n",
    "    # 统计每条船每天，在哪个小时出海的频率最大\n",
    "    mode_hour = df.groupby('ship')['hour'].agg(lambda x:x.value_counts().index[0]).to_dict()\n",
    "    train['mode_hour'] = train['ship'].map(mode_hour)\n",
    "    \n",
    "    # 小时\n",
    "    t = group_feature(df, 'ship','hour',['max','min'])\n",
    "    train = pd.merge(train, t, on='ship', how='left')\n",
    "    \n",
    "    # 某船工作的时间/天数\n",
    "    hour_nunique = df.groupby('ship')['hour'].nunique().to_dict()\n",
    "    date_nunique = df.groupby('ship')['date'].nunique().to_dict()\n",
    "    train['hour_nunique'] = train['ship'].map(hour_nunique)\n",
    "    train['date_nunique'] = train['ship'].map(date_nunique)\n",
    "    \n",
    "    # 统计每条船总共工作时长\n",
    "    t = df.groupby('ship')['time'].agg({'diff_time':lambda x:np.max(x)-np.min(x)}).reset_index()\n",
    "    t['diff_day'] = t['diff_time'].dt.days\n",
    "    t['diff_second'] = t['diff_time'].dt.seconds\n",
    "    train = pd.merge(train, t, on='ship', how='left')\n",
    "    return train"
   ]
  },
  {
   "cell_type": "code",
   "execution_count": 213,
   "metadata": {},
   "outputs": [],
   "source": [
    "train = pd.read_hdf('train.h5')"
   ]
  },
  {
   "cell_type": "code",
   "execution_count": 214,
   "metadata": {},
   "outputs": [],
   "source": [
    "test = pd.read_hdf('test.h5')"
   ]
  },
  {
   "cell_type": "code",
   "execution_count": 215,
   "metadata": {},
   "outputs": [],
   "source": [
    "train = extract_dt(train)\n",
    "test = extract_dt(test)"
   ]
  },
  {
   "cell_type": "markdown",
   "metadata": {},
   "source": [
    "#### 按照weekday（天）来划分"
   ]
  },
  {
   "cell_type": "code",
   "execution_count": 164,
   "metadata": {},
   "outputs": [
    {
     "data": {
      "text/plain": [
       "4"
      ]
     },
     "execution_count": 164,
     "metadata": {},
     "output_type": "execute_result"
    }
   ],
   "source": [
    "train[train['ship'] == 2525]['weekday'].nunique()"
   ]
  },
  {
   "cell_type": "code",
   "execution_count": 165,
   "metadata": {},
   "outputs": [
    {
     "data": {
      "text/plain": [
       "4"
      ]
     },
     "execution_count": 165,
     "metadata": {},
     "output_type": "execute_result"
    }
   ],
   "source": [
    "train[train['ship'] == 4240]['weekday'].nunique()"
   ]
  },
  {
   "cell_type": "code",
   "execution_count": 166,
   "metadata": {},
   "outputs": [
    {
     "data": {
      "text/plain": [
       "3"
      ]
     },
     "execution_count": 166,
     "metadata": {},
     "output_type": "execute_result"
    }
   ],
   "source": [
    "train[train['ship'] == 3356]['weekday'].nunique()"
   ]
  },
  {
   "cell_type": "code",
   "execution_count": 138,
   "metadata": {},
   "outputs": [
    {
     "data": {
      "text/plain": [
       "array([1, 0, 6], dtype=int64)"
      ]
     },
     "execution_count": 138,
     "metadata": {},
     "output_type": "execute_result"
    }
   ],
   "source": [
    "train[train['ship'] == 705]['weekday'].unique()"
   ]
  },
  {
   "cell_type": "code",
   "execution_count": 139,
   "metadata": {},
   "outputs": [
    {
     "data": {
      "text/plain": [
       "array([1, 0, 6], dtype=int64)"
      ]
     },
     "execution_count": 139,
     "metadata": {},
     "output_type": "execute_result"
    }
   ],
   "source": [
    "train[train['ship'] == 3376]['weekday'].unique()"
   ]
  },
  {
   "cell_type": "markdown",
   "metadata": {},
   "source": [
    "#### 按照hour来划分"
   ]
  },
  {
   "cell_type": "code",
   "execution_count": 140,
   "metadata": {},
   "outputs": [
    {
     "data": {
      "text/plain": [
       "weekday\n",
       "2     [23, 22, 21, 20, 19, 18, 17, 16, 15, 14, 13, 12]\n",
       "3    [23, 22, 21, 20, 19, 18, 17, 16, 15, 14, 13, 1...\n",
       "4    [23, 22, 21, 20, 19, 18, 17, 16, 15, 14, 13, 1...\n",
       "5               [11, 10, 9, 8, 7, 6, 5, 4, 3, 2, 1, 0]\n",
       "Name: hour, dtype: object"
      ]
     },
     "execution_count": 140,
     "metadata": {},
     "output_type": "execute_result"
    }
   ],
   "source": [
    "train[train['ship'] == 2525].groupby('weekday')['hour'].unique()"
   ]
  },
  {
   "cell_type": "markdown",
   "metadata": {},
   "source": [
    "#### 按照month来划分"
   ]
  },
  {
   "cell_type": "code",
   "execution_count": 141,
   "metadata": {},
   "outputs": [
    {
     "data": {
      "text/plain": [
       "array([11], dtype=int64)"
      ]
     },
     "execution_count": 141,
     "metadata": {},
     "output_type": "execute_result"
    }
   ],
   "source": [
    "train[train['ship'] == 2525]['month'].unique()"
   ]
  },
  {
   "cell_type": "code",
   "execution_count": 143,
   "metadata": {},
   "outputs": [
    {
     "data": {
      "text/plain": [
       "array([11], dtype=int64)"
      ]
     },
     "execution_count": 143,
     "metadata": {},
     "output_type": "execute_result"
    }
   ],
   "source": [
    "train[train['ship'] == 4240]['month'].unique()"
   ]
  },
  {
   "cell_type": "code",
   "execution_count": 144,
   "metadata": {},
   "outputs": [
    {
     "data": {
      "text/plain": [
       "array([10], dtype=int64)"
      ]
     },
     "execution_count": 144,
     "metadata": {},
     "output_type": "execute_result"
    }
   ],
   "source": [
    "train[train['ship'] == 3356]['month'].unique()"
   ]
  },
  {
   "cell_type": "code",
   "execution_count": 145,
   "metadata": {},
   "outputs": [
    {
     "data": {
      "text/plain": [
       "array([11], dtype=int64)"
      ]
     },
     "execution_count": 145,
     "metadata": {},
     "output_type": "execute_result"
    }
   ],
   "source": [
    "train[train['ship'] == 705]['month'].unique()"
   ]
  },
  {
   "cell_type": "code",
   "execution_count": 146,
   "metadata": {},
   "outputs": [
    {
     "data": {
      "text/plain": [
       "array([11], dtype=int64)"
      ]
     },
     "execution_count": 146,
     "metadata": {},
     "output_type": "execute_result"
    }
   ],
   "source": [
    "train[train['ship'] == 3376]['month'].unique()"
   ]
  },
  {
   "cell_type": "code",
   "execution_count": 173,
   "metadata": {},
   "outputs": [
    {
     "data": {
      "text/plain": [
       "ship\n",
       "0       4\n",
       "1       4\n",
       "2       4\n",
       "3       4\n",
       "4       4\n",
       "       ..\n",
       "6995    3\n",
       "6996    3\n",
       "6997    4\n",
       "6998    3\n",
       "6999    3\n",
       "Name: date, Length: 7000, dtype: int64"
      ]
     },
     "execution_count": 173,
     "metadata": {},
     "output_type": "execute_result"
    }
   ],
   "source": [
    "train.groupby('ship')['date'].nunique()"
   ]
  },
  {
   "cell_type": "code",
   "execution_count": 149,
   "metadata": {},
   "outputs": [
    {
     "data": {
      "text/plain": [
       "array([30, 29, 28, 31], dtype=int64)"
      ]
     },
     "execution_count": 149,
     "metadata": {},
     "output_type": "execute_result"
    }
   ],
   "source": [
    "train[train['month']==10]['day'].unique()"
   ]
  },
  {
   "cell_type": "code",
   "execution_count": 150,
   "metadata": {},
   "outputs": [
    {
     "data": {
      "text/plain": [
       "array([10,  9,  8,  7,  6,  5,  4, 17, 16, 15, 14, 20, 19, 18,  3,  2,  1,\n",
       "       13, 12, 11, 23, 22, 21], dtype=int64)"
      ]
     },
     "execution_count": 150,
     "metadata": {},
     "output_type": "execute_result"
    }
   ],
   "source": [
    "train[train['month']==11]['day'].unique()"
   ]
  },
  {
   "cell_type": "code",
   "execution_count": 160,
   "metadata": {},
   "outputs": [
    {
     "data": {
      "text/plain": [
       "ship\n",
       "0       [11, 10, 9, 8, 7, 6, 5, 4, 3, 2, 1, 0, 23, 22,...\n",
       "1       [11, 10, 9, 8, 7, 6, 5, 4, 3, 2, 1, 0, 23, 22,...\n",
       "2       [11, 10, 9, 8, 7, 6, 5, 4, 3, 2, 1, 0, 23, 22,...\n",
       "3       [11, 10, 9, 8, 7, 6, 5, 4, 3, 2, 1, 0, 23, 22,...\n",
       "4       [11, 10, 9, 8, 7, 6, 5, 4, 3, 2, 1, 0, 23, 22,...\n",
       "                              ...                        \n",
       "6995    [23, 22, 21, 20, 19, 18, 17, 16, 15, 14, 13, 1...\n",
       "6996    [23, 22, 21, 20, 19, 18, 17, 16, 15, 14, 13, 1...\n",
       "6997    [11, 10, 9, 8, 7, 6, 5, 4, 3, 2, 1, 0, 23, 22,...\n",
       "6998    [23, 22, 21, 20, 19, 18, 17, 16, 15, 14, 13, 1...\n",
       "6999    [23, 22, 21, 20, 19, 18, 17, 16, 15, 14, 13, 1...\n",
       "Name: hour, Length: 7000, dtype: object"
      ]
     },
     "execution_count": 160,
     "metadata": {},
     "output_type": "execute_result"
    }
   ],
   "source": [
    "train.groupby('ship')['hour'].unique()"
   ]
  },
  {
   "cell_type": "code",
   "execution_count": 159,
   "metadata": {},
   "outputs": [
    {
     "data": {
      "text/plain": [
       "ship\n",
       "0       15\n",
       "1       19\n",
       "2       17\n",
       "3       22\n",
       "4       23\n",
       "        ..\n",
       "6995    14\n",
       "6996    23\n",
       "6997    23\n",
       "6998    23\n",
       "6999    17\n",
       "Name: hour, Length: 7000, dtype: int64"
      ]
     },
     "execution_count": 159,
     "metadata": {},
     "output_type": "execute_result"
    }
   ],
   "source": [
    "train.groupby('ship')['hour'].agg(lambda x:x.value_counts().index[0])"
   ]
  },
  {
   "cell_type": "code",
   "execution_count": 174,
   "metadata": {},
   "outputs": [
    {
     "data": {
      "text/plain": [
       "ship\n",
       "0       15\n",
       "1       19\n",
       "2       17\n",
       "3       22\n",
       "4       23\n",
       "        ..\n",
       "6995    14\n",
       "6996    23\n",
       "6997    23\n",
       "6998    23\n",
       "6999    17\n",
       "Name: hour, Length: 7000, dtype: int64"
      ]
     },
     "execution_count": 174,
     "metadata": {},
     "output_type": "execute_result"
    }
   ],
   "source": [
    "train.groupby('ship')['hour'].agg(lambda x:x.value_counts().index[0])"
   ]
  },
  {
   "cell_type": "code",
   "execution_count": 176,
   "metadata": {},
   "outputs": [
    {
     "data": {
      "text/html": [
       "<div>\n",
       "<style scoped>\n",
       "    .dataframe tbody tr th:only-of-type {\n",
       "        vertical-align: middle;\n",
       "    }\n",
       "\n",
       "    .dataframe tbody tr th {\n",
       "        vertical-align: top;\n",
       "    }\n",
       "\n",
       "    .dataframe thead th {\n",
       "        text-align: right;\n",
       "    }\n",
       "</style>\n",
       "<table border=\"1\" class=\"dataframe\">\n",
       "  <thead>\n",
       "    <tr style=\"text-align: right;\">\n",
       "      <th></th>\n",
       "      <th>diff_time</th>\n",
       "    </tr>\n",
       "    <tr>\n",
       "      <th>ship</th>\n",
       "      <th></th>\n",
       "    </tr>\n",
       "  </thead>\n",
       "  <tbody>\n",
       "    <tr>\n",
       "      <td>0</td>\n",
       "      <td>2 days 23:48:51</td>\n",
       "    </tr>\n",
       "    <tr>\n",
       "      <td>1</td>\n",
       "      <td>2 days 23:39:47</td>\n",
       "    </tr>\n",
       "    <tr>\n",
       "      <td>2</td>\n",
       "      <td>2 days 23:34:57</td>\n",
       "    </tr>\n",
       "    <tr>\n",
       "      <td>3</td>\n",
       "      <td>2 days 23:34:59</td>\n",
       "    </tr>\n",
       "    <tr>\n",
       "      <td>4</td>\n",
       "      <td>2 days 23:57:12</td>\n",
       "    </tr>\n",
       "    <tr>\n",
       "      <td>...</td>\n",
       "      <td>...</td>\n",
       "    </tr>\n",
       "    <tr>\n",
       "      <td>6995</td>\n",
       "      <td>2 days 11:44:46</td>\n",
       "    </tr>\n",
       "    <tr>\n",
       "      <td>6996</td>\n",
       "      <td>2 days 23:48:47</td>\n",
       "    </tr>\n",
       "    <tr>\n",
       "      <td>6997</td>\n",
       "      <td>2 days 23:54:27</td>\n",
       "    </tr>\n",
       "    <tr>\n",
       "      <td>6998</td>\n",
       "      <td>2 days 11:52:29</td>\n",
       "    </tr>\n",
       "    <tr>\n",
       "      <td>6999</td>\n",
       "      <td>2 days 23:44:58</td>\n",
       "    </tr>\n",
       "  </tbody>\n",
       "</table>\n",
       "<p>7000 rows × 1 columns</p>\n",
       "</div>"
      ],
      "text/plain": [
       "           diff_time\n",
       "ship                \n",
       "0    2 days 23:48:51\n",
       "1    2 days 23:39:47\n",
       "2    2 days 23:34:57\n",
       "3    2 days 23:34:59\n",
       "4    2 days 23:57:12\n",
       "...              ...\n",
       "6995 2 days 11:44:46\n",
       "6996 2 days 23:48:47\n",
       "6997 2 days 23:54:27\n",
       "6998 2 days 11:52:29\n",
       "6999 2 days 23:44:58\n",
       "\n",
       "[7000 rows x 1 columns]"
      ]
     },
     "execution_count": 176,
     "metadata": {},
     "output_type": "execute_result"
    }
   ],
   "source": [
    "train.groupby('ship')['time'].agg({'diff_time':lambda x:np.max(x)-np.min(x)})"
   ]
  },
  {
   "cell_type": "code",
   "execution_count": 177,
   "metadata": {},
   "outputs": [
    {
     "data": {
      "text/html": [
       "<div>\n",
       "<style scoped>\n",
       "    .dataframe tbody tr th:only-of-type {\n",
       "        vertical-align: middle;\n",
       "    }\n",
       "\n",
       "    .dataframe tbody tr th {\n",
       "        vertical-align: top;\n",
       "    }\n",
       "\n",
       "    .dataframe thead th {\n",
       "        text-align: right;\n",
       "    }\n",
       "</style>\n",
       "<table border=\"1\" class=\"dataframe\">\n",
       "  <thead>\n",
       "    <tr style=\"text-align: right;\">\n",
       "      <th></th>\n",
       "      <th>ship</th>\n",
       "      <th>diff_time</th>\n",
       "    </tr>\n",
       "  </thead>\n",
       "  <tbody>\n",
       "    <tr>\n",
       "      <td>0</td>\n",
       "      <td>0</td>\n",
       "      <td>2 days 23:48:51</td>\n",
       "    </tr>\n",
       "    <tr>\n",
       "      <td>1</td>\n",
       "      <td>1</td>\n",
       "      <td>2 days 23:39:47</td>\n",
       "    </tr>\n",
       "    <tr>\n",
       "      <td>2</td>\n",
       "      <td>2</td>\n",
       "      <td>2 days 23:34:57</td>\n",
       "    </tr>\n",
       "    <tr>\n",
       "      <td>3</td>\n",
       "      <td>3</td>\n",
       "      <td>2 days 23:34:59</td>\n",
       "    </tr>\n",
       "    <tr>\n",
       "      <td>4</td>\n",
       "      <td>4</td>\n",
       "      <td>2 days 23:57:12</td>\n",
       "    </tr>\n",
       "    <tr>\n",
       "      <td>...</td>\n",
       "      <td>...</td>\n",
       "      <td>...</td>\n",
       "    </tr>\n",
       "    <tr>\n",
       "      <td>6995</td>\n",
       "      <td>6995</td>\n",
       "      <td>2 days 11:44:46</td>\n",
       "    </tr>\n",
       "    <tr>\n",
       "      <td>6996</td>\n",
       "      <td>6996</td>\n",
       "      <td>2 days 23:48:47</td>\n",
       "    </tr>\n",
       "    <tr>\n",
       "      <td>6997</td>\n",
       "      <td>6997</td>\n",
       "      <td>2 days 23:54:27</td>\n",
       "    </tr>\n",
       "    <tr>\n",
       "      <td>6998</td>\n",
       "      <td>6998</td>\n",
       "      <td>2 days 11:52:29</td>\n",
       "    </tr>\n",
       "    <tr>\n",
       "      <td>6999</td>\n",
       "      <td>6999</td>\n",
       "      <td>2 days 23:44:58</td>\n",
       "    </tr>\n",
       "  </tbody>\n",
       "</table>\n",
       "<p>7000 rows × 2 columns</p>\n",
       "</div>"
      ],
      "text/plain": [
       "      ship       diff_time\n",
       "0        0 2 days 23:48:51\n",
       "1        1 2 days 23:39:47\n",
       "2        2 2 days 23:34:57\n",
       "3        3 2 days 23:34:59\n",
       "4        4 2 days 23:57:12\n",
       "...    ...             ...\n",
       "6995  6995 2 days 11:44:46\n",
       "6996  6996 2 days 23:48:47\n",
       "6997  6997 2 days 23:54:27\n",
       "6998  6998 2 days 11:52:29\n",
       "6999  6999 2 days 23:44:58\n",
       "\n",
       "[7000 rows x 2 columns]"
      ]
     },
     "execution_count": 177,
     "metadata": {},
     "output_type": "execute_result"
    }
   ],
   "source": [
    "train.groupby('ship')['time'].agg({'diff_time':lambda x:np.max(x)-np.min(x)}).reset_index()"
   ]
  },
  {
   "cell_type": "markdown",
   "metadata": {},
   "source": [
    "###### 总结\n",
    "- 开船的日期，按照天为单位，2-3D\n",
    "- 开船的时刻，按小时为单位，1-24H"
   ]
  },
  {
   "cell_type": "code",
   "execution_count": 216,
   "metadata": {},
   "outputs": [],
   "source": [
    "train_label = train.drop_duplicates('ship')\n",
    "test_label = test.drop_duplicates('ship')"
   ]
  },
  {
   "cell_type": "code",
   "execution_count": 217,
   "metadata": {},
   "outputs": [
    {
     "data": {
      "text/html": [
       "<div>\n",
       "<style scoped>\n",
       "    .dataframe tbody tr th:only-of-type {\n",
       "        vertical-align: middle;\n",
       "    }\n",
       "\n",
       "    .dataframe tbody tr th {\n",
       "        vertical-align: top;\n",
       "    }\n",
       "\n",
       "    .dataframe thead th {\n",
       "        text-align: right;\n",
       "    }\n",
       "</style>\n",
       "<table border=\"1\" class=\"dataframe\">\n",
       "  <thead>\n",
       "    <tr style=\"text-align: right;\">\n",
       "      <th></th>\n",
       "      <th>ship</th>\n",
       "      <th>x</th>\n",
       "      <th>y</th>\n",
       "      <th>v</th>\n",
       "      <th>d</th>\n",
       "      <th>time</th>\n",
       "      <th>type</th>\n",
       "      <th>month</th>\n",
       "      <th>day</th>\n",
       "      <th>date</th>\n",
       "      <th>hour</th>\n",
       "      <th>weekday</th>\n",
       "    </tr>\n",
       "  </thead>\n",
       "  <tbody>\n",
       "    <tr>\n",
       "      <td>0</td>\n",
       "      <td>0</td>\n",
       "      <td>6.152038e+06</td>\n",
       "      <td>5.124873e+06</td>\n",
       "      <td>2.59</td>\n",
       "      <td>102</td>\n",
       "      <td>1900-11-10 11:58:19</td>\n",
       "      <td>拖网</td>\n",
       "      <td>11</td>\n",
       "      <td>10</td>\n",
       "      <td>1900-11-10</td>\n",
       "      <td>11</td>\n",
       "      <td>5</td>\n",
       "    </tr>\n",
       "    <tr>\n",
       "      <td>0</td>\n",
       "      <td>1</td>\n",
       "      <td>6.076254e+06</td>\n",
       "      <td>5.061743e+06</td>\n",
       "      <td>3.99</td>\n",
       "      <td>278</td>\n",
       "      <td>1900-11-10 11:40:21</td>\n",
       "      <td>拖网</td>\n",
       "      <td>11</td>\n",
       "      <td>10</td>\n",
       "      <td>1900-11-10</td>\n",
       "      <td>11</td>\n",
       "      <td>5</td>\n",
       "    </tr>\n",
       "    <tr>\n",
       "      <td>0</td>\n",
       "      <td>10</td>\n",
       "      <td>6.321032e+06</td>\n",
       "      <td>5.242805e+06</td>\n",
       "      <td>4.48</td>\n",
       "      <td>213</td>\n",
       "      <td>1900-11-10 11:49:36</td>\n",
       "      <td>拖网</td>\n",
       "      <td>11</td>\n",
       "      <td>10</td>\n",
       "      <td>1900-11-10</td>\n",
       "      <td>11</td>\n",
       "      <td>5</td>\n",
       "    </tr>\n",
       "    <tr>\n",
       "      <td>0</td>\n",
       "      <td>100</td>\n",
       "      <td>6.102751e+06</td>\n",
       "      <td>5.112534e+06</td>\n",
       "      <td>0.00</td>\n",
       "      <td>0</td>\n",
       "      <td>1900-10-30 23:50:05</td>\n",
       "      <td>拖网</td>\n",
       "      <td>10</td>\n",
       "      <td>30</td>\n",
       "      <td>1900-10-30</td>\n",
       "      <td>23</td>\n",
       "      <td>1</td>\n",
       "    </tr>\n",
       "    <tr>\n",
       "      <td>0</td>\n",
       "      <td>1000</td>\n",
       "      <td>6.843713e+06</td>\n",
       "      <td>5.480538e+06</td>\n",
       "      <td>2.00</td>\n",
       "      <td>216</td>\n",
       "      <td>1900-11-06 23:42:30</td>\n",
       "      <td>围网</td>\n",
       "      <td>11</td>\n",
       "      <td>6</td>\n",
       "      <td>1900-11-06</td>\n",
       "      <td>23</td>\n",
       "      <td>1</td>\n",
       "    </tr>\n",
       "  </tbody>\n",
       "</table>\n",
       "</div>"
      ],
      "text/plain": [
       "   ship             x             y     v    d                time type  \\\n",
       "0     0  6.152038e+06  5.124873e+06  2.59  102 1900-11-10 11:58:19   拖网   \n",
       "0     1  6.076254e+06  5.061743e+06  3.99  278 1900-11-10 11:40:21   拖网   \n",
       "0    10  6.321032e+06  5.242805e+06  4.48  213 1900-11-10 11:49:36   拖网   \n",
       "0   100  6.102751e+06  5.112534e+06  0.00    0 1900-10-30 23:50:05   拖网   \n",
       "0  1000  6.843713e+06  5.480538e+06  2.00  216 1900-11-06 23:42:30   围网   \n",
       "\n",
       "   month  day        date  hour  weekday  \n",
       "0     11   10  1900-11-10    11        5  \n",
       "0     11   10  1900-11-10    11        5  \n",
       "0     11   10  1900-11-10    11        5  \n",
       "0     10   30  1900-10-30    23        1  \n",
       "0     11    6  1900-11-06    23        1  "
      ]
     },
     "execution_count": 217,
     "metadata": {},
     "output_type": "execute_result"
    }
   ],
   "source": [
    "train_label.head()"
   ]
  },
  {
   "cell_type": "code",
   "execution_count": 218,
   "metadata": {},
   "outputs": [
    {
     "data": {
      "text/html": [
       "<div>\n",
       "<style scoped>\n",
       "    .dataframe tbody tr th:only-of-type {\n",
       "        vertical-align: middle;\n",
       "    }\n",
       "\n",
       "    .dataframe tbody tr th {\n",
       "        vertical-align: top;\n",
       "    }\n",
       "\n",
       "    .dataframe thead th {\n",
       "        text-align: right;\n",
       "    }\n",
       "</style>\n",
       "<table border=\"1\" class=\"dataframe\">\n",
       "  <thead>\n",
       "    <tr style=\"text-align: right;\">\n",
       "      <th></th>\n",
       "      <th>ship</th>\n",
       "      <th>x</th>\n",
       "      <th>y</th>\n",
       "      <th>v</th>\n",
       "      <th>d</th>\n",
       "      <th>time</th>\n",
       "      <th>month</th>\n",
       "      <th>day</th>\n",
       "      <th>date</th>\n",
       "      <th>hour</th>\n",
       "      <th>weekday</th>\n",
       "    </tr>\n",
       "  </thead>\n",
       "  <tbody>\n",
       "    <tr>\n",
       "      <td>0</td>\n",
       "      <td>7000</td>\n",
       "      <td>7.118845e+06</td>\n",
       "      <td>5.918277e+06</td>\n",
       "      <td>0.11</td>\n",
       "      <td>0</td>\n",
       "      <td>1900-11-03 11:54:32</td>\n",
       "      <td>11</td>\n",
       "      <td>3</td>\n",
       "      <td>1900-11-03</td>\n",
       "      <td>11</td>\n",
       "      <td>5</td>\n",
       "    </tr>\n",
       "    <tr>\n",
       "      <td>0</td>\n",
       "      <td>7001</td>\n",
       "      <td>6.246727e+06</td>\n",
       "      <td>5.241149e+06</td>\n",
       "      <td>2.70</td>\n",
       "      <td>173</td>\n",
       "      <td>1900-11-13 23:59:08</td>\n",
       "      <td>11</td>\n",
       "      <td>13</td>\n",
       "      <td>1900-11-13</td>\n",
       "      <td>23</td>\n",
       "      <td>1</td>\n",
       "    </tr>\n",
       "    <tr>\n",
       "      <td>0</td>\n",
       "      <td>7002</td>\n",
       "      <td>6.741453e+06</td>\n",
       "      <td>5.566688e+06</td>\n",
       "      <td>0.49</td>\n",
       "      <td>248</td>\n",
       "      <td>1900-11-20 23:55:55</td>\n",
       "      <td>11</td>\n",
       "      <td>20</td>\n",
       "      <td>1900-11-20</td>\n",
       "      <td>23</td>\n",
       "      <td>1</td>\n",
       "    </tr>\n",
       "    <tr>\n",
       "      <td>0</td>\n",
       "      <td>7003</td>\n",
       "      <td>6.150774e+06</td>\n",
       "      <td>5.206033e+06</td>\n",
       "      <td>0.22</td>\n",
       "      <td>312</td>\n",
       "      <td>1900-11-17 11:59:19</td>\n",
       "      <td>11</td>\n",
       "      <td>17</td>\n",
       "      <td>1900-11-17</td>\n",
       "      <td>11</td>\n",
       "      <td>5</td>\n",
       "    </tr>\n",
       "    <tr>\n",
       "      <td>0</td>\n",
       "      <td>7004</td>\n",
       "      <td>6.401550e+06</td>\n",
       "      <td>5.343990e+06</td>\n",
       "      <td>0.00</td>\n",
       "      <td>161</td>\n",
       "      <td>1900-11-10 11:41:16</td>\n",
       "      <td>11</td>\n",
       "      <td>10</td>\n",
       "      <td>1900-11-10</td>\n",
       "      <td>11</td>\n",
       "      <td>5</td>\n",
       "    </tr>\n",
       "  </tbody>\n",
       "</table>\n",
       "</div>"
      ],
      "text/plain": [
       "   ship             x             y     v    d                time  month  \\\n",
       "0  7000  7.118845e+06  5.918277e+06  0.11    0 1900-11-03 11:54:32     11   \n",
       "0  7001  6.246727e+06  5.241149e+06  2.70  173 1900-11-13 23:59:08     11   \n",
       "0  7002  6.741453e+06  5.566688e+06  0.49  248 1900-11-20 23:55:55     11   \n",
       "0  7003  6.150774e+06  5.206033e+06  0.22  312 1900-11-17 11:59:19     11   \n",
       "0  7004  6.401550e+06  5.343990e+06  0.00  161 1900-11-10 11:41:16     11   \n",
       "\n",
       "   day        date  hour  weekday  \n",
       "0    3  1900-11-03    11        5  \n",
       "0   13  1900-11-13    23        1  \n",
       "0   20  1900-11-20    23        1  \n",
       "0   17  1900-11-17    11        5  \n",
       "0   10  1900-11-10    11        5  "
      ]
     },
     "execution_count": 218,
     "metadata": {},
     "output_type": "execute_result"
    }
   ],
   "source": [
    "test_label.head()"
   ]
  },
  {
   "cell_type": "code",
   "execution_count": 189,
   "metadata": {},
   "outputs": [
    {
     "data": {
      "text/plain": [
       "(7000, 12)"
      ]
     },
     "execution_count": 189,
     "metadata": {},
     "output_type": "execute_result"
    }
   ],
   "source": [
    "train_label.shape"
   ]
  },
  {
   "cell_type": "code",
   "execution_count": 182,
   "metadata": {},
   "outputs": [
    {
     "data": {
      "text/html": [
       "<div>\n",
       "<style scoped>\n",
       "    .dataframe tbody tr th:only-of-type {\n",
       "        vertical-align: middle;\n",
       "    }\n",
       "\n",
       "    .dataframe tbody tr th {\n",
       "        vertical-align: top;\n",
       "    }\n",
       "\n",
       "    .dataframe thead th {\n",
       "        text-align: right;\n",
       "    }\n",
       "</style>\n",
       "<table border=\"1\" class=\"dataframe\">\n",
       "  <thead>\n",
       "    <tr style=\"text-align: right;\">\n",
       "      <th></th>\n",
       "      <th>ship</th>\n",
       "      <th>x</th>\n",
       "      <th>y</th>\n",
       "      <th>v</th>\n",
       "      <th>d</th>\n",
       "      <th>time</th>\n",
       "      <th>type</th>\n",
       "      <th>month</th>\n",
       "      <th>day</th>\n",
       "      <th>date</th>\n",
       "      <th>hour</th>\n",
       "      <th>weekday</th>\n",
       "    </tr>\n",
       "  </thead>\n",
       "  <tbody>\n",
       "    <tr>\n",
       "      <td>0</td>\n",
       "      <td>0</td>\n",
       "      <td>6.152038e+06</td>\n",
       "      <td>5.124873e+06</td>\n",
       "      <td>2.59</td>\n",
       "      <td>102</td>\n",
       "      <td>1900-11-10 11:58:19</td>\n",
       "      <td>拖网</td>\n",
       "      <td>11</td>\n",
       "      <td>10</td>\n",
       "      <td>1900-11-10</td>\n",
       "      <td>11</td>\n",
       "      <td>5</td>\n",
       "    </tr>\n",
       "    <tr>\n",
       "      <td>1</td>\n",
       "      <td>0</td>\n",
       "      <td>6.151230e+06</td>\n",
       "      <td>5.125218e+06</td>\n",
       "      <td>2.70</td>\n",
       "      <td>113</td>\n",
       "      <td>1900-11-10 11:48:19</td>\n",
       "      <td>拖网</td>\n",
       "      <td>11</td>\n",
       "      <td>10</td>\n",
       "      <td>1900-11-10</td>\n",
       "      <td>11</td>\n",
       "      <td>5</td>\n",
       "    </tr>\n",
       "    <tr>\n",
       "      <td>2</td>\n",
       "      <td>0</td>\n",
       "      <td>6.150421e+06</td>\n",
       "      <td>5.125563e+06</td>\n",
       "      <td>2.70</td>\n",
       "      <td>116</td>\n",
       "      <td>1900-11-10 11:38:19</td>\n",
       "      <td>拖网</td>\n",
       "      <td>11</td>\n",
       "      <td>10</td>\n",
       "      <td>1900-11-10</td>\n",
       "      <td>11</td>\n",
       "      <td>5</td>\n",
       "    </tr>\n",
       "    <tr>\n",
       "      <td>3</td>\n",
       "      <td>0</td>\n",
       "      <td>6.149612e+06</td>\n",
       "      <td>5.125907e+06</td>\n",
       "      <td>3.29</td>\n",
       "      <td>95</td>\n",
       "      <td>1900-11-10 11:28:19</td>\n",
       "      <td>拖网</td>\n",
       "      <td>11</td>\n",
       "      <td>10</td>\n",
       "      <td>1900-11-10</td>\n",
       "      <td>11</td>\n",
       "      <td>5</td>\n",
       "    </tr>\n",
       "    <tr>\n",
       "      <td>4</td>\n",
       "      <td>0</td>\n",
       "      <td>6.148803e+06</td>\n",
       "      <td>5.126252e+06</td>\n",
       "      <td>3.18</td>\n",
       "      <td>108</td>\n",
       "      <td>1900-11-10 11:18:19</td>\n",
       "      <td>拖网</td>\n",
       "      <td>11</td>\n",
       "      <td>10</td>\n",
       "      <td>1900-11-10</td>\n",
       "      <td>11</td>\n",
       "      <td>5</td>\n",
       "    </tr>\n",
       "  </tbody>\n",
       "</table>\n",
       "</div>"
      ],
      "text/plain": [
       "   ship             x             y     v    d                time type  \\\n",
       "0     0  6.152038e+06  5.124873e+06  2.59  102 1900-11-10 11:58:19   拖网   \n",
       "1     0  6.151230e+06  5.125218e+06  2.70  113 1900-11-10 11:48:19   拖网   \n",
       "2     0  6.150421e+06  5.125563e+06  2.70  116 1900-11-10 11:38:19   拖网   \n",
       "3     0  6.149612e+06  5.125907e+06  3.29   95 1900-11-10 11:28:19   拖网   \n",
       "4     0  6.148803e+06  5.126252e+06  3.18  108 1900-11-10 11:18:19   拖网   \n",
       "\n",
       "   month  day        date  hour  weekday  \n",
       "0     11   10  1900-11-10    11        5  \n",
       "1     11   10  1900-11-10    11        5  \n",
       "2     11   10  1900-11-10    11        5  \n",
       "3     11   10  1900-11-10    11        5  \n",
       "4     11   10  1900-11-10    11        5  "
      ]
     },
     "execution_count": 182,
     "metadata": {},
     "output_type": "execute_result"
    }
   ],
   "source": [
    "train.head()"
   ]
  },
  {
   "cell_type": "code",
   "execution_count": 183,
   "metadata": {},
   "outputs": [
    {
     "data": {
      "text/plain": [
       "拖网    0.623000\n",
       "围网    0.231571\n",
       "刺网    0.145429\n",
       "Name: type, dtype: float64"
      ]
     },
     "execution_count": 183,
     "metadata": {},
     "output_type": "execute_result"
    }
   ],
   "source": [
    "train_label['type'].value_counts(1)"
   ]
  },
  {
   "cell_type": "code",
   "execution_count": 184,
   "metadata": {},
   "outputs": [],
   "source": [
    "type_map = dict(zip(train_label['type'].unique(), np.arange(3)))"
   ]
  },
  {
   "cell_type": "code",
   "execution_count": 185,
   "metadata": {},
   "outputs": [
    {
     "data": {
      "text/plain": [
       "{'拖网': 0, '围网': 1, '刺网': 2}"
      ]
     },
     "execution_count": 185,
     "metadata": {},
     "output_type": "execute_result"
    }
   ],
   "source": [
    "type_map"
   ]
  },
  {
   "cell_type": "code",
   "execution_count": 186,
   "metadata": {},
   "outputs": [],
   "source": [
    "type_map_rev = {v:k for k,v in type_map.items()}"
   ]
  },
  {
   "cell_type": "code",
   "execution_count": 187,
   "metadata": {},
   "outputs": [
    {
     "data": {
      "text/plain": [
       "{0: '拖网', 1: '围网', 2: '刺网'}"
      ]
     },
     "execution_count": 187,
     "metadata": {},
     "output_type": "execute_result"
    }
   ],
   "source": [
    "type_map_rev"
   ]
  },
  {
   "cell_type": "code",
   "execution_count": 219,
   "metadata": {},
   "outputs": [],
   "source": [
    "train_label['type'] = train_label['type'].map(type_map)"
   ]
  },
  {
   "cell_type": "code",
   "execution_count": 220,
   "metadata": {},
   "outputs": [
    {
     "name": "stdout",
     "output_type": "stream",
     "text": [
      "{'x_max': 'max', 'x_min': 'min', 'x_mean': 'mean', 'x_std': 'std', 'x_skew': 'skew', 'x_sum': 'sum', 'x_count': 'count'}\n",
      "{'y_max': 'max', 'y_min': 'min', 'y_mean': 'mean', 'y_std': 'std', 'y_skew': 'skew', 'y_sum': 'sum'}\n",
      "{'v_max': 'max', 'v_min': 'min', 'v_mean': 'mean', 'v_std': 'std', 'v_skew': 'skew', 'v_sum': 'sum'}\n",
      "{'d_max': 'max', 'd_min': 'min', 'd_mean': 'mean', 'd_std': 'std', 'd_skew': 'skew', 'd_sum': 'sum'}\n",
      "{'hour_max': 'max', 'hour_min': 'min'}\n"
     ]
    }
   ],
   "source": [
    "train_label = extract_feature(train, train_label)"
   ]
  },
  {
   "cell_type": "code",
   "execution_count": 223,
   "metadata": {},
   "outputs": [
    {
     "name": "stdout",
     "output_type": "stream",
     "text": [
      "{'x_max': 'max', 'x_min': 'min', 'x_mean': 'mean', 'x_std': 'std', 'x_skew': 'skew', 'x_sum': 'sum', 'x_count': 'count'}\n",
      "{'y_max': 'max', 'y_min': 'min', 'y_mean': 'mean', 'y_std': 'std', 'y_skew': 'skew', 'y_sum': 'sum'}\n",
      "{'v_max': 'max', 'v_min': 'min', 'v_mean': 'mean', 'v_std': 'std', 'v_skew': 'skew', 'v_sum': 'sum'}\n",
      "{'d_max': 'max', 'd_min': 'min', 'd_mean': 'mean', 'd_std': 'std', 'd_skew': 'skew', 'd_sum': 'sum'}\n",
      "{'hour_max': 'max', 'hour_min': 'min'}\n"
     ]
    }
   ],
   "source": [
    "test_label = extract_feature(test, test_label)"
   ]
  },
  {
   "cell_type": "code",
   "execution_count": 200,
   "metadata": {},
   "outputs": [
    {
     "name": "stdout",
     "output_type": "stream",
     "text": [
      "Dataset Shape: (7000, 51)\n"
     ]
    },
    {
     "data": {
      "text/html": [
       "<div>\n",
       "<style scoped>\n",
       "    .dataframe tbody tr th:only-of-type {\n",
       "        vertical-align: middle;\n",
       "    }\n",
       "\n",
       "    .dataframe tbody tr th {\n",
       "        vertical-align: top;\n",
       "    }\n",
       "\n",
       "    .dataframe thead th {\n",
       "        text-align: right;\n",
       "    }\n",
       "</style>\n",
       "<table border=\"1\" class=\"dataframe\">\n",
       "  <thead>\n",
       "    <tr style=\"text-align: right;\">\n",
       "      <th></th>\n",
       "      <th>Name</th>\n",
       "      <th>dtypes</th>\n",
       "      <th>Missing</th>\n",
       "      <th>Uniques</th>\n",
       "      <th>Entropy</th>\n",
       "    </tr>\n",
       "  </thead>\n",
       "  <tbody>\n",
       "    <tr>\n",
       "      <td>0</td>\n",
       "      <td>ship</td>\n",
       "      <td>int64</td>\n",
       "      <td>0</td>\n",
       "      <td>7000</td>\n",
       "      <td>12.77</td>\n",
       "    </tr>\n",
       "    <tr>\n",
       "      <td>1</td>\n",
       "      <td>x</td>\n",
       "      <td>float64</td>\n",
       "      <td>0</td>\n",
       "      <td>4555</td>\n",
       "      <td>11.50</td>\n",
       "    </tr>\n",
       "    <tr>\n",
       "      <td>2</td>\n",
       "      <td>y</td>\n",
       "      <td>float64</td>\n",
       "      <td>0</td>\n",
       "      <td>4555</td>\n",
       "      <td>11.50</td>\n",
       "    </tr>\n",
       "    <tr>\n",
       "      <td>3</td>\n",
       "      <td>v</td>\n",
       "      <td>float64</td>\n",
       "      <td>0</td>\n",
       "      <td>169</td>\n",
       "      <td>5.40</td>\n",
       "    </tr>\n",
       "    <tr>\n",
       "      <td>4</td>\n",
       "      <td>d</td>\n",
       "      <td>int64</td>\n",
       "      <td>0</td>\n",
       "      <td>360</td>\n",
       "      <td>6.55</td>\n",
       "    </tr>\n",
       "    <tr>\n",
       "      <td>5</td>\n",
       "      <td>time</td>\n",
       "      <td>datetime64[ns]</td>\n",
       "      <td>0</td>\n",
       "      <td>4094</td>\n",
       "      <td>11.79</td>\n",
       "    </tr>\n",
       "    <tr>\n",
       "      <td>6</td>\n",
       "      <td>type</td>\n",
       "      <td>int64</td>\n",
       "      <td>0</td>\n",
       "      <td>3</td>\n",
       "      <td>1.32</td>\n",
       "    </tr>\n",
       "    <tr>\n",
       "      <td>7</td>\n",
       "      <td>month</td>\n",
       "      <td>int64</td>\n",
       "      <td>0</td>\n",
       "      <td>2</td>\n",
       "      <td>0.55</td>\n",
       "    </tr>\n",
       "    <tr>\n",
       "      <td>8</td>\n",
       "      <td>day</td>\n",
       "      <td>int64</td>\n",
       "      <td>0</td>\n",
       "      <td>20</td>\n",
       "      <td>3.04</td>\n",
       "    </tr>\n",
       "    <tr>\n",
       "      <td>9</td>\n",
       "      <td>date</td>\n",
       "      <td>object</td>\n",
       "      <td>0</td>\n",
       "      <td>20</td>\n",
       "      <td>3.04</td>\n",
       "    </tr>\n",
       "    <tr>\n",
       "      <td>10</td>\n",
       "      <td>hour</td>\n",
       "      <td>int64</td>\n",
       "      <td>0</td>\n",
       "      <td>23</td>\n",
       "      <td>1.08</td>\n",
       "    </tr>\n",
       "    <tr>\n",
       "      <td>11</td>\n",
       "      <td>weekday</td>\n",
       "      <td>int64</td>\n",
       "      <td>0</td>\n",
       "      <td>6</td>\n",
       "      <td>1.43</td>\n",
       "    </tr>\n",
       "    <tr>\n",
       "      <td>12</td>\n",
       "      <td>x_max</td>\n",
       "      <td>float64</td>\n",
       "      <td>0</td>\n",
       "      <td>6015</td>\n",
       "      <td>12.34</td>\n",
       "    </tr>\n",
       "    <tr>\n",
       "      <td>13</td>\n",
       "      <td>x_min</td>\n",
       "      <td>float64</td>\n",
       "      <td>0</td>\n",
       "      <td>4471</td>\n",
       "      <td>11.54</td>\n",
       "    </tr>\n",
       "    <tr>\n",
       "      <td>14</td>\n",
       "      <td>x_mean</td>\n",
       "      <td>float64</td>\n",
       "      <td>0</td>\n",
       "      <td>6937</td>\n",
       "      <td>12.75</td>\n",
       "    </tr>\n",
       "    <tr>\n",
       "      <td>15</td>\n",
       "      <td>x_std</td>\n",
       "      <td>float64</td>\n",
       "      <td>0</td>\n",
       "      <td>6798</td>\n",
       "      <td>12.55</td>\n",
       "    </tr>\n",
       "    <tr>\n",
       "      <td>16</td>\n",
       "      <td>x_skew</td>\n",
       "      <td>float64</td>\n",
       "      <td>0</td>\n",
       "      <td>6798</td>\n",
       "      <td>12.55</td>\n",
       "    </tr>\n",
       "    <tr>\n",
       "      <td>17</td>\n",
       "      <td>x_sum</td>\n",
       "      <td>float64</td>\n",
       "      <td>0</td>\n",
       "      <td>6986</td>\n",
       "      <td>12.77</td>\n",
       "    </tr>\n",
       "    <tr>\n",
       "      <td>18</td>\n",
       "      <td>x_count</td>\n",
       "      <td>int64</td>\n",
       "      <td>0</td>\n",
       "      <td>408</td>\n",
       "      <td>6.90</td>\n",
       "    </tr>\n",
       "    <tr>\n",
       "      <td>19</td>\n",
       "      <td>y_max</td>\n",
       "      <td>float64</td>\n",
       "      <td>0</td>\n",
       "      <td>4426</td>\n",
       "      <td>11.47</td>\n",
       "    </tr>\n",
       "    <tr>\n",
       "      <td>20</td>\n",
       "      <td>y_min</td>\n",
       "      <td>float64</td>\n",
       "      <td>0</td>\n",
       "      <td>6092</td>\n",
       "      <td>12.37</td>\n",
       "    </tr>\n",
       "    <tr>\n",
       "      <td>21</td>\n",
       "      <td>y_mean</td>\n",
       "      <td>float64</td>\n",
       "      <td>0</td>\n",
       "      <td>6926</td>\n",
       "      <td>12.75</td>\n",
       "    </tr>\n",
       "    <tr>\n",
       "      <td>22</td>\n",
       "      <td>y_std</td>\n",
       "      <td>float64</td>\n",
       "      <td>0</td>\n",
       "      <td>6798</td>\n",
       "      <td>12.55</td>\n",
       "    </tr>\n",
       "    <tr>\n",
       "      <td>23</td>\n",
       "      <td>y_skew</td>\n",
       "      <td>float64</td>\n",
       "      <td>0</td>\n",
       "      <td>6797</td>\n",
       "      <td>12.55</td>\n",
       "    </tr>\n",
       "    <tr>\n",
       "      <td>24</td>\n",
       "      <td>y_sum</td>\n",
       "      <td>float64</td>\n",
       "      <td>0</td>\n",
       "      <td>6988</td>\n",
       "      <td>12.77</td>\n",
       "    </tr>\n",
       "    <tr>\n",
       "      <td>25</td>\n",
       "      <td>v_max</td>\n",
       "      <td>float64</td>\n",
       "      <td>0</td>\n",
       "      <td>213</td>\n",
       "      <td>4.92</td>\n",
       "    </tr>\n",
       "    <tr>\n",
       "      <td>26</td>\n",
       "      <td>v_min</td>\n",
       "      <td>float64</td>\n",
       "      <td>0</td>\n",
       "      <td>26</td>\n",
       "      <td>0.88</td>\n",
       "    </tr>\n",
       "    <tr>\n",
       "      <td>27</td>\n",
       "      <td>v_mean</td>\n",
       "      <td>float64</td>\n",
       "      <td>0</td>\n",
       "      <td>6987</td>\n",
       "      <td>12.77</td>\n",
       "    </tr>\n",
       "    <tr>\n",
       "      <td>28</td>\n",
       "      <td>v_std</td>\n",
       "      <td>float64</td>\n",
       "      <td>0</td>\n",
       "      <td>6975</td>\n",
       "      <td>12.76</td>\n",
       "    </tr>\n",
       "    <tr>\n",
       "      <td>29</td>\n",
       "      <td>v_skew</td>\n",
       "      <td>float64</td>\n",
       "      <td>0</td>\n",
       "      <td>6975</td>\n",
       "      <td>12.76</td>\n",
       "    </tr>\n",
       "    <tr>\n",
       "      <td>30</td>\n",
       "      <td>v_sum</td>\n",
       "      <td>float64</td>\n",
       "      <td>0</td>\n",
       "      <td>6983</td>\n",
       "      <td>12.77</td>\n",
       "    </tr>\n",
       "    <tr>\n",
       "      <td>31</td>\n",
       "      <td>d_max</td>\n",
       "      <td>int64</td>\n",
       "      <td>0</td>\n",
       "      <td>203</td>\n",
       "      <td>3.71</td>\n",
       "    </tr>\n",
       "    <tr>\n",
       "      <td>32</td>\n",
       "      <td>d_min</td>\n",
       "      <td>int64</td>\n",
       "      <td>0</td>\n",
       "      <td>22</td>\n",
       "      <td>0.30</td>\n",
       "    </tr>\n",
       "    <tr>\n",
       "      <td>33</td>\n",
       "      <td>d_mean</td>\n",
       "      <td>float64</td>\n",
       "      <td>0</td>\n",
       "      <td>6849</td>\n",
       "      <td>12.64</td>\n",
       "    </tr>\n",
       "    <tr>\n",
       "      <td>34</td>\n",
       "      <td>d_std</td>\n",
       "      <td>float64</td>\n",
       "      <td>0</td>\n",
       "      <td>6861</td>\n",
       "      <td>12.63</td>\n",
       "    </tr>\n",
       "    <tr>\n",
       "      <td>35</td>\n",
       "      <td>d_skew</td>\n",
       "      <td>float64</td>\n",
       "      <td>0</td>\n",
       "      <td>6856</td>\n",
       "      <td>12.63</td>\n",
       "    </tr>\n",
       "    <tr>\n",
       "      <td>36</td>\n",
       "      <td>d_sum</td>\n",
       "      <td>int64</td>\n",
       "      <td>0</td>\n",
       "      <td>6488</td>\n",
       "      <td>12.55</td>\n",
       "    </tr>\n",
       "    <tr>\n",
       "      <td>37</td>\n",
       "      <td>x_max_x_min</td>\n",
       "      <td>float64</td>\n",
       "      <td>0</td>\n",
       "      <td>6514</td>\n",
       "      <td>12.45</td>\n",
       "    </tr>\n",
       "    <tr>\n",
       "      <td>38</td>\n",
       "      <td>y_max_y_min</td>\n",
       "      <td>float64</td>\n",
       "      <td>0</td>\n",
       "      <td>6528</td>\n",
       "      <td>12.45</td>\n",
       "    </tr>\n",
       "    <tr>\n",
       "      <td>39</td>\n",
       "      <td>y_max_x_min</td>\n",
       "      <td>float64</td>\n",
       "      <td>0</td>\n",
       "      <td>6078</td>\n",
       "      <td>12.39</td>\n",
       "    </tr>\n",
       "    <tr>\n",
       "      <td>40</td>\n",
       "      <td>x_max_y_min</td>\n",
       "      <td>float64</td>\n",
       "      <td>0</td>\n",
       "      <td>6476</td>\n",
       "      <td>12.56</td>\n",
       "    </tr>\n",
       "    <tr>\n",
       "      <td>41</td>\n",
       "      <td>slope</td>\n",
       "      <td>float64</td>\n",
       "      <td>0</td>\n",
       "      <td>6633</td>\n",
       "      <td>12.49</td>\n",
       "    </tr>\n",
       "    <tr>\n",
       "      <td>42</td>\n",
       "      <td>area</td>\n",
       "      <td>float64</td>\n",
       "      <td>0</td>\n",
       "      <td>6633</td>\n",
       "      <td>12.49</td>\n",
       "    </tr>\n",
       "    <tr>\n",
       "      <td>43</td>\n",
       "      <td>mode_hour</td>\n",
       "      <td>int64</td>\n",
       "      <td>0</td>\n",
       "      <td>24</td>\n",
       "      <td>3.96</td>\n",
       "    </tr>\n",
       "    <tr>\n",
       "      <td>44</td>\n",
       "      <td>hour_max</td>\n",
       "      <td>int64</td>\n",
       "      <td>0</td>\n",
       "      <td>12</td>\n",
       "      <td>0.04</td>\n",
       "    </tr>\n",
       "    <tr>\n",
       "      <td>45</td>\n",
       "      <td>hour_min</td>\n",
       "      <td>int64</td>\n",
       "      <td>0</td>\n",
       "      <td>11</td>\n",
       "      <td>0.04</td>\n",
       "    </tr>\n",
       "    <tr>\n",
       "      <td>46</td>\n",
       "      <td>hour_nunique</td>\n",
       "      <td>int64</td>\n",
       "      <td>0</td>\n",
       "      <td>19</td>\n",
       "      <td>0.13</td>\n",
       "    </tr>\n",
       "    <tr>\n",
       "      <td>47</td>\n",
       "      <td>date_nunique</td>\n",
       "      <td>int64</td>\n",
       "      <td>0</td>\n",
       "      <td>4</td>\n",
       "      <td>1.02</td>\n",
       "    </tr>\n",
       "    <tr>\n",
       "      <td>48</td>\n",
       "      <td>diff_time</td>\n",
       "      <td>float64</td>\n",
       "      <td>0</td>\n",
       "      <td>1841</td>\n",
       "      <td>9.80</td>\n",
       "    </tr>\n",
       "    <tr>\n",
       "      <td>49</td>\n",
       "      <td>diff_day</td>\n",
       "      <td>int64</td>\n",
       "      <td>0</td>\n",
       "      <td>3</td>\n",
       "      <td>0.08</td>\n",
       "    </tr>\n",
       "    <tr>\n",
       "      <td>50</td>\n",
       "      <td>diff_second</td>\n",
       "      <td>int64</td>\n",
       "      <td>0</td>\n",
       "      <td>1840</td>\n",
       "      <td>9.80</td>\n",
       "    </tr>\n",
       "  </tbody>\n",
       "</table>\n",
       "</div>"
      ],
      "text/plain": [
       "            Name          dtypes  Missing  Uniques  Entropy\n",
       "0           ship           int64        0     7000    12.77\n",
       "1              x         float64        0     4555    11.50\n",
       "2              y         float64        0     4555    11.50\n",
       "3              v         float64        0      169     5.40\n",
       "4              d           int64        0      360     6.55\n",
       "5           time  datetime64[ns]        0     4094    11.79\n",
       "6           type           int64        0        3     1.32\n",
       "7          month           int64        0        2     0.55\n",
       "8            day           int64        0       20     3.04\n",
       "9           date          object        0       20     3.04\n",
       "10          hour           int64        0       23     1.08\n",
       "11       weekday           int64        0        6     1.43\n",
       "12         x_max         float64        0     6015    12.34\n",
       "13         x_min         float64        0     4471    11.54\n",
       "14        x_mean         float64        0     6937    12.75\n",
       "15         x_std         float64        0     6798    12.55\n",
       "16        x_skew         float64        0     6798    12.55\n",
       "17         x_sum         float64        0     6986    12.77\n",
       "18       x_count           int64        0      408     6.90\n",
       "19         y_max         float64        0     4426    11.47\n",
       "20         y_min         float64        0     6092    12.37\n",
       "21        y_mean         float64        0     6926    12.75\n",
       "22         y_std         float64        0     6798    12.55\n",
       "23        y_skew         float64        0     6797    12.55\n",
       "24         y_sum         float64        0     6988    12.77\n",
       "25         v_max         float64        0      213     4.92\n",
       "26         v_min         float64        0       26     0.88\n",
       "27        v_mean         float64        0     6987    12.77\n",
       "28         v_std         float64        0     6975    12.76\n",
       "29        v_skew         float64        0     6975    12.76\n",
       "30         v_sum         float64        0     6983    12.77\n",
       "31         d_max           int64        0      203     3.71\n",
       "32         d_min           int64        0       22     0.30\n",
       "33        d_mean         float64        0     6849    12.64\n",
       "34         d_std         float64        0     6861    12.63\n",
       "35        d_skew         float64        0     6856    12.63\n",
       "36         d_sum           int64        0     6488    12.55\n",
       "37   x_max_x_min         float64        0     6514    12.45\n",
       "38   y_max_y_min         float64        0     6528    12.45\n",
       "39   y_max_x_min         float64        0     6078    12.39\n",
       "40   x_max_y_min         float64        0     6476    12.56\n",
       "41         slope         float64        0     6633    12.49\n",
       "42          area         float64        0     6633    12.49\n",
       "43     mode_hour           int64        0       24     3.96\n",
       "44      hour_max           int64        0       12     0.04\n",
       "45      hour_min           int64        0       11     0.04\n",
       "46  hour_nunique           int64        0       19     0.13\n",
       "47  date_nunique           int64        0        4     1.02\n",
       "48     diff_time         float64        0     1841     9.80\n",
       "49      diff_day           int64        0        3     0.08\n",
       "50   diff_second           int64        0     1840     9.80"
      ]
     },
     "execution_count": 200,
     "metadata": {},
     "output_type": "execute_result"
    }
   ],
   "source": [
    "resumetable(train_label)"
   ]
  },
  {
   "cell_type": "code",
   "execution_count": 221,
   "metadata": {},
   "outputs": [],
   "source": [
    "train_label['diff_time'] = train_label['diff_time']/np.timedelta64(1, 's')"
   ]
  },
  {
   "cell_type": "code",
   "execution_count": 224,
   "metadata": {},
   "outputs": [],
   "source": [
    "test_label['diff_time'] = test_label['diff_time']/np.timedelta64(1, 's')"
   ]
  },
  {
   "cell_type": "code",
   "execution_count": 225,
   "metadata": {},
   "outputs": [],
   "source": [
    "features = [x for x in train_label.columns if x not in ['ship','type','time','x','date','y','v','d']]\n",
    "target = 'type'"
   ]
  },
  {
   "cell_type": "code",
   "execution_count": 226,
   "metadata": {},
   "outputs": [
    {
     "name": "stdout",
     "output_type": "stream",
     "text": [
      "43 month,day,hour,weekday,x_max,x_min,x_mean,x_std,x_skew,x_sum,x_count,y_max,y_min,y_mean,y_std,y_skew,y_sum,v_max,v_min,v_mean,v_std,v_skew,v_sum,d_max,d_min,d_mean,d_std,d_skew,d_sum,x_max_x_min,y_max_y_min,y_max_x_min,x_max_y_min,slope,area,mode_hour,hour_max,hour_min,hour_nunique,date_nunique,diff_time,diff_day,diff_second\n"
     ]
    }
   ],
   "source": [
    "print(len(features), ','.join(features))"
   ]
  },
  {
   "cell_type": "markdown",
   "metadata": {},
   "source": [
    "### lightgb模型"
   ]
  },
  {
   "cell_type": "code",
   "execution_count": 227,
   "metadata": {},
   "outputs": [],
   "source": [
    "params = {\n",
    "    'n_estimators': 5000,\n",
    "    'boosting_type': 'gbdt',\n",
    "    'objective': 'multiclass',\n",
    "    'num_class': 3,\n",
    "    'early_stopping_rounds': 100,\n",
    "}"
   ]
  },
  {
   "cell_type": "code",
   "execution_count": 239,
   "metadata": {},
   "outputs": [],
   "source": [
    "train_label[features].to_hdf('train-v2.h5', 'df', mode='w')"
   ]
  },
  {
   "cell_type": "code",
   "execution_count": 240,
   "metadata": {},
   "outputs": [],
   "source": [
    "test_label[features].to_hdf('test-v2.h5', 'df', mode='w')"
   ]
  },
  {
   "cell_type": "code",
   "execution_count": 230,
   "metadata": {},
   "outputs": [
    {
     "name": "stdout",
     "output_type": "stream",
     "text": [
      "51\n"
     ]
    }
   ],
   "source": [
    "print(len(train_label.columns))"
   ]
  },
  {
   "cell_type": "code",
   "execution_count": 231,
   "metadata": {},
   "outputs": [
    {
     "name": "stdout",
     "output_type": "stream",
     "text": [
      "50\n"
     ]
    }
   ],
   "source": [
    "print(len(test_label.columns))"
   ]
  },
  {
   "cell_type": "code",
   "execution_count": 257,
   "metadata": {},
   "outputs": [],
   "source": [
    "from sklearn.metrics import confusion_matrix"
   ]
  },
  {
   "cell_type": "code",
   "execution_count": 258,
   "metadata": {},
   "outputs": [],
   "source": [
    "import itertools\n",
    "# 绘制混淆矩阵\n",
    "def plot_confusion_matrix(cm, classes, normalize=False, title='Confusion matrix', cmap=plt.cm.Blues):\n",
    "    \"\"\"\n",
    "    This function prints and plots the confusion matrix.\n",
    "    Normalization can be applied by setting `normalize=True`.\n",
    "    Input\n",
    "    - cm : 计算出的混淆矩阵的值\n",
    "    - classes : 混淆矩阵中每一行每一列对应的列\n",
    "    - normalize : True:显示百分比, False:显示个数\n",
    "    \"\"\"\n",
    "    if normalize:\n",
    "        cm = cm.astype('float') / cm.sum(axis=1)[:, np.newaxis]\n",
    "        print(\"Normalized confusion matrix\")\n",
    "    else:\n",
    "        print('Confusion matrix, without normalization')\n",
    "    print(cm)\n",
    "    plt.imshow(cm, interpolation='nearest', cmap=cmap)\n",
    "    plt.title(title)\n",
    "    plt.colorbar()\n",
    "    tick_marks = np.arange(len(classes))\n",
    "    plt.xticks(tick_marks, classes, rotation=45)\n",
    "    plt.yticks(tick_marks, classes)\n",
    "    fmt = '.2f' if normalize else 'd'\n",
    "    thresh = cm.max() / 2.\n",
    "    for i, j in itertools.product(range(cm.shape[0]), range(cm.shape[1])):\n",
    "        plt.text(j, i, format(cm[i, j], fmt),\n",
    "                 horizontalalignment=\"center\",\n",
    "                 color=\"white\" if cm[i, j] > thresh else \"black\")\n",
    "    plt.tight_layout()\n",
    "    plt.ylabel('True label')\n",
    "    plt.xlabel('Predicted label')"
   ]
  },
  {
   "cell_type": "code",
   "execution_count": 263,
   "metadata": {},
   "outputs": [
    {
     "name": "stdout",
     "output_type": "stream",
     "text": [
      "Training until validation scores don't improve for 100 rounds\n",
      "[100]\ttraining's multi_logloss: 0.0842418\tvalid_1's multi_logloss: 0.263586\n",
      "[200]\ttraining's multi_logloss: 0.0221538\tvalid_1's multi_logloss: 0.258388\n",
      "Early stopping, best iteration is:\n",
      "[152]\ttraining's multi_logloss: 0.0411613\tvalid_1's multi_logloss: 0.254532\n",
      "0 val f1 0.8792735689931912\n",
      "Training until validation scores don't improve for 100 rounds\n",
      "[100]\ttraining's multi_logloss: 0.0804527\tvalid_1's multi_logloss: 0.274948\n",
      "[200]\ttraining's multi_logloss: 0.0209142\tvalid_1's multi_logloss: 0.263367\n",
      "Early stopping, best iteration is:\n",
      "[182]\ttraining's multi_logloss: 0.0265227\tvalid_1's multi_logloss: 0.261768\n",
      "1 val f1 0.8596997781669306\n",
      "Training until validation scores don't improve for 100 rounds\n",
      "[100]\ttraining's multi_logloss: 0.0814128\tvalid_1's multi_logloss: 0.273777\n",
      "[200]\ttraining's multi_logloss: 0.0216746\tvalid_1's multi_logloss: 0.266004\n",
      "Early stopping, best iteration is:\n",
      "[199]\ttraining's multi_logloss: 0.0219426\tvalid_1's multi_logloss: 0.265607\n",
      "2 val f1 0.8712043849420287\n",
      "Training until validation scores don't improve for 100 rounds\n",
      "[100]\ttraining's multi_logloss: 0.0850538\tvalid_1's multi_logloss: 0.268266\n",
      "[200]\ttraining's multi_logloss: 0.0229407\tvalid_1's multi_logloss: 0.258934\n",
      "Early stopping, best iteration is:\n",
      "[158]\ttraining's multi_logloss: 0.0389309\tvalid_1's multi_logloss: 0.254367\n",
      "3 val f1 0.8645328727627056\n",
      "Training until validation scores don't improve for 100 rounds\n",
      "[100]\ttraining's multi_logloss: 0.0824876\tvalid_1's multi_logloss: 0.288094\n",
      "[200]\ttraining's multi_logloss: 0.0214066\tvalid_1's multi_logloss: 0.286543\n",
      "Early stopping, best iteration is:\n",
      "[115]\ttraining's multi_logloss: 0.066933\tvalid_1's multi_logloss: 0.282959\n",
      "4 val f1 0.8538670906107622\n"
     ]
    }
   ],
   "source": [
    "fold = StratifiedKFold(n_splits=5, shuffle=True, random_state=42)\n",
    "\n",
    "X = train_label[features].copy()\n",
    "y = train_label[target]\n",
    "models = []\n",
    "pred = np.zeros((len(test_label),3))\n",
    "oof = np.zeros((len(X), 3))\n",
    "conf_mat = []\n",
    "for index, (train_idx, val_idx) in enumerate(fold.split(X, y)):\n",
    "\n",
    "    train_set = lgb.Dataset(X.iloc[train_idx], y.iloc[train_idx])\n",
    "    val_set = lgb.Dataset(X.iloc[val_idx], y.iloc[val_idx])\n",
    "\n",
    "    model = lgb.train(params, train_set, valid_sets=[train_set, val_set], verbose_eval=100)\n",
    "    models.append(model)\n",
    "    val_pred = model.predict(X.iloc[val_idx])\n",
    "    oof[val_idx] = val_pred\n",
    "    val_y = y.iloc[val_idx]\n",
    "    val_pred = np.argmax(val_pred, axis=1)\n",
    "    print(index, 'val f1', metrics.f1_score(val_y, val_pred, average='macro'))\n",
    "    # 0.8695539641133697\n",
    "    # 0.8866211724839532\n",
    "#     print(val_y, val_pred)\n",
    "    conf_mat.append(confusion_matrix(val_y, val_pred))\n",
    "#     plot_confusion_matrix(conf_mat, classes=classes)\n",
    "    test_pred = model.predict(test_label[features])\n",
    "    pred += test_pred/5"
   ]
  },
  {
   "cell_type": "code",
   "execution_count": 268,
   "metadata": {},
   "outputs": [
    {
     "name": "stdout",
     "output_type": "stream",
     "text": [
      "Normalized confusion matrix\n",
      "[[0.94501718 0.04467354 0.01030928]\n",
      " [0.12615385 0.85538462 0.01846154]\n",
      " [0.09313725 0.09803922 0.80882353]]\n"
     ]
    },
    {
     "data": {
      "image/png": "[encoded data removed]",
      "text/plain": [
       "<Figure size 432x288 with 2 Axes>"
      ]
     },
     "metadata": {
      "needs_background": "light"
     },
     "output_type": "display_data"
    }
   ],
   "source": [
    "# 混淆矩阵可视化 {0: '拖网', 1: '围网', 2: '刺网'}\n",
    "classes = ['拖网', '围网', '刺网']\n",
    "plot_confusion_matrix(conf_mat[0], classes=classes, title='混淆矩阵', normalize=True)"
   ]
  },
  {
   "cell_type": "code",
   "execution_count": 266,
   "metadata": {},
   "outputs": [
    {
     "name": "stdout",
     "output_type": "stream",
     "text": [
      "Confusion matrix, without normalization\n",
      "[[823  32  17]\n",
      " [ 37 271  16]\n",
      " [ 27  18 159]]\n"
     ]
    },
    {
     "data": {
      "image/png": "[encoded data removed]",
      "text/plain": [
       "<Figure size 432x288 with 2 Axes>"
      ]
     },
     "metadata": {
      "needs_background": "light"
     },
     "output_type": "display_data"
    }
   ],
   "source": [
    "plot_confusion_matrix(conf_mat[1], classes=classes, title='混淆矩阵')"
   ]
  },
  {
   "cell_type": "code",
   "execution_count": 267,
   "metadata": {},
   "outputs": [
    {
     "name": "stdout",
     "output_type": "stream",
     "text": [
      "Confusion matrix, without normalization\n",
      "[[824  38  10]\n",
      " [ 33 280  11]\n",
      " [ 25  20 159]]\n"
     ]
    },
    {
     "data": {
      "image/png": "[encoded data removed]",
      "text/plain": [
       "<Figure size 432x288 with 2 Axes>"
      ]
     },
     "metadata": {
      "needs_background": "light"
     },
     "output_type": "display_data"
    }
   ],
   "source": [
    "plot_confusion_matrix(conf_mat[2], classes=classes, title='混淆矩阵')"
   ]
  },
  {
   "cell_type": "markdown",
   "metadata": {},
   "source": [
    "##### 小结\n",
    "- 从混淆矩阵可以知道\n",
    "    - 30+的围网被预测为拖网\n",
    "    - 20+的刺网被预测为拖网\n",
    "    - 30+的拖网被预测为围网\n",
    "    - 20的刺网被预测为围网\n",
    "    - 10的拖网被预测为刺网\n",
    "    - 10的围网被预测为刺网"
   ]
  },
  {
   "cell_type": "code",
   "execution_count": 233,
   "metadata": {},
   "outputs": [
    {
     "name": "stdout",
     "output_type": "stream",
     "text": [
      "oof f1 0.8656978615230351\n"
     ]
    }
   ],
   "source": [
    "oof = np.argmax(oof, axis=1)\n",
    "print('oof f1', metrics.f1_score(oof, y, average='macro'))"
   ]
  },
  {
   "cell_type": "code",
   "execution_count": 235,
   "metadata": {},
   "outputs": [
    {
     "name": "stdout",
     "output_type": "stream",
     "text": [
      "0    0.6375\n",
      "1    0.2320\n",
      "2    0.1305\n",
      "Name: pred, dtype: float64\n"
     ]
    }
   ],
   "source": [
    "pred = np.argmax(pred, axis=1)\n",
    "sub = test_label[['ship']]\n",
    "sub['pred'] = pred\n",
    "\n",
    "print(sub['pred'].value_counts(1))\n",
    "sub['pred'] = sub['pred'].map(type_map_rev)\n",
    "sub.to_csv('result.csv', index=None, header=None)"
   ]
  },
  {
   "cell_type": "code",
   "execution_count": 236,
   "metadata": {},
   "outputs": [],
   "source": [
    "ret = []\n",
    "for index, model in enumerate(models):\n",
    "    df = pd.DataFrame()\n",
    "    df['name'] = model.feature_name()\n",
    "    df['score'] = model.feature_importance()\n",
    "    df['fold'] = index\n",
    "    ret.append(df)\n",
    "    \n",
    "df = pd.concat(ret)"
   ]
  },
  {
   "cell_type": "code",
   "execution_count": 237,
   "metadata": {},
   "outputs": [],
   "source": [
    "df = df.groupby('name', as_index=False)['score'].mean()\n",
    "df = df.sort_values(['score'], ascending=False)"
   ]
  },
  {
   "cell_type": "code",
   "execution_count": 238,
   "metadata": {},
   "outputs": [
    {
     "data": {
      "text/html": [
       "<div>\n",
       "<style scoped>\n",
       "    .dataframe tbody tr th:only-of-type {\n",
       "        vertical-align: middle;\n",
       "    }\n",
       "\n",
       "    .dataframe tbody tr th {\n",
       "        vertical-align: top;\n",
       "    }\n",
       "\n",
       "    .dataframe thead th {\n",
       "        text-align: right;\n",
       "    }\n",
       "</style>\n",
       "<table border=\"1\" class=\"dataframe\">\n",
       "  <thead>\n",
       "    <tr style=\"text-align: right;\">\n",
       "      <th></th>\n",
       "      <th>name</th>\n",
       "      <th>score</th>\n",
       "    </tr>\n",
       "  </thead>\n",
       "  <tbody>\n",
       "    <tr>\n",
       "      <td>35</td>\n",
       "      <td>y_max</td>\n",
       "      <td>862.2</td>\n",
       "    </tr>\n",
       "    <tr>\n",
       "      <td>31</td>\n",
       "      <td>x_min</td>\n",
       "      <td>857.0</td>\n",
       "    </tr>\n",
       "    <tr>\n",
       "      <td>36</td>\n",
       "      <td>y_max_x_min</td>\n",
       "      <td>763.0</td>\n",
       "    </tr>\n",
       "    <tr>\n",
       "      <td>29</td>\n",
       "      <td>x_max_y_min</td>\n",
       "      <td>680.0</td>\n",
       "    </tr>\n",
       "    <tr>\n",
       "      <td>23</td>\n",
       "      <td>v_std</td>\n",
       "      <td>650.4</td>\n",
       "    </tr>\n",
       "    <tr>\n",
       "      <td>39</td>\n",
       "      <td>y_min</td>\n",
       "      <td>615.4</td>\n",
       "    </tr>\n",
       "    <tr>\n",
       "      <td>32</td>\n",
       "      <td>x_skew</td>\n",
       "      <td>558.8</td>\n",
       "    </tr>\n",
       "    <tr>\n",
       "      <td>27</td>\n",
       "      <td>x_max</td>\n",
       "      <td>555.0</td>\n",
       "    </tr>\n",
       "    <tr>\n",
       "      <td>22</td>\n",
       "      <td>v_skew</td>\n",
       "      <td>520.4</td>\n",
       "    </tr>\n",
       "    <tr>\n",
       "      <td>40</td>\n",
       "      <td>y_skew</td>\n",
       "      <td>508.8</td>\n",
       "    </tr>\n",
       "    <tr>\n",
       "      <td>18</td>\n",
       "      <td>slope</td>\n",
       "      <td>481.8</td>\n",
       "    </tr>\n",
       "    <tr>\n",
       "      <td>30</td>\n",
       "      <td>x_mean</td>\n",
       "      <td>479.6</td>\n",
       "    </tr>\n",
       "    <tr>\n",
       "      <td>38</td>\n",
       "      <td>y_mean</td>\n",
       "      <td>464.0</td>\n",
       "    </tr>\n",
       "    <tr>\n",
       "      <td>5</td>\n",
       "      <td>d_std</td>\n",
       "      <td>455.2</td>\n",
       "    </tr>\n",
       "    <tr>\n",
       "      <td>11</td>\n",
       "      <td>diff_time</td>\n",
       "      <td>440.0</td>\n",
       "    </tr>\n",
       "    <tr>\n",
       "      <td>20</td>\n",
       "      <td>v_mean</td>\n",
       "      <td>437.6</td>\n",
       "    </tr>\n",
       "    <tr>\n",
       "      <td>2</td>\n",
       "      <td>d_mean</td>\n",
       "      <td>423.0</td>\n",
       "    </tr>\n",
       "    <tr>\n",
       "      <td>33</td>\n",
       "      <td>x_std</td>\n",
       "      <td>403.4</td>\n",
       "    </tr>\n",
       "    <tr>\n",
       "      <td>19</td>\n",
       "      <td>v_max</td>\n",
       "      <td>390.2</td>\n",
       "    </tr>\n",
       "    <tr>\n",
       "      <td>41</td>\n",
       "      <td>y_std</td>\n",
       "      <td>350.6</td>\n",
       "    </tr>\n",
       "    <tr>\n",
       "      <td>4</td>\n",
       "      <td>d_skew</td>\n",
       "      <td>343.0</td>\n",
       "    </tr>\n",
       "    <tr>\n",
       "      <td>6</td>\n",
       "      <td>d_sum</td>\n",
       "      <td>341.6</td>\n",
       "    </tr>\n",
       "    <tr>\n",
       "      <td>24</td>\n",
       "      <td>v_sum</td>\n",
       "      <td>332.6</td>\n",
       "    </tr>\n",
       "    <tr>\n",
       "      <td>26</td>\n",
       "      <td>x_count</td>\n",
       "      <td>321.2</td>\n",
       "    </tr>\n",
       "    <tr>\n",
       "      <td>37</td>\n",
       "      <td>y_max_y_min</td>\n",
       "      <td>318.6</td>\n",
       "    </tr>\n",
       "    <tr>\n",
       "      <td>28</td>\n",
       "      <td>x_max_x_min</td>\n",
       "      <td>298.8</td>\n",
       "    </tr>\n",
       "    <tr>\n",
       "      <td>0</td>\n",
       "      <td>area</td>\n",
       "      <td>271.4</td>\n",
       "    </tr>\n",
       "    <tr>\n",
       "      <td>42</td>\n",
       "      <td>y_sum</td>\n",
       "      <td>270.0</td>\n",
       "    </tr>\n",
       "    <tr>\n",
       "      <td>34</td>\n",
       "      <td>x_sum</td>\n",
       "      <td>268.0</td>\n",
       "    </tr>\n",
       "    <tr>\n",
       "      <td>16</td>\n",
       "      <td>mode_hour</td>\n",
       "      <td>237.0</td>\n",
       "    </tr>\n",
       "    <tr>\n",
       "      <td>1</td>\n",
       "      <td>d_max</td>\n",
       "      <td>196.6</td>\n",
       "    </tr>\n",
       "    <tr>\n",
       "      <td>8</td>\n",
       "      <td>day</td>\n",
       "      <td>163.2</td>\n",
       "    </tr>\n",
       "    <tr>\n",
       "      <td>21</td>\n",
       "      <td>v_min</td>\n",
       "      <td>69.0</td>\n",
       "    </tr>\n",
       "    <tr>\n",
       "      <td>10</td>\n",
       "      <td>diff_second</td>\n",
       "      <td>59.0</td>\n",
       "    </tr>\n",
       "    <tr>\n",
       "      <td>12</td>\n",
       "      <td>hour</td>\n",
       "      <td>32.4</td>\n",
       "    </tr>\n",
       "    <tr>\n",
       "      <td>7</td>\n",
       "      <td>date_nunique</td>\n",
       "      <td>27.2</td>\n",
       "    </tr>\n",
       "    <tr>\n",
       "      <td>25</td>\n",
       "      <td>weekday</td>\n",
       "      <td>22.8</td>\n",
       "    </tr>\n",
       "    <tr>\n",
       "      <td>3</td>\n",
       "      <td>d_min</td>\n",
       "      <td>20.0</td>\n",
       "    </tr>\n",
       "    <tr>\n",
       "      <td>9</td>\n",
       "      <td>diff_day</td>\n",
       "      <td>11.4</td>\n",
       "    </tr>\n",
       "    <tr>\n",
       "      <td>17</td>\n",
       "      <td>month</td>\n",
       "      <td>7.8</td>\n",
       "    </tr>\n",
       "    <tr>\n",
       "      <td>15</td>\n",
       "      <td>hour_nunique</td>\n",
       "      <td>0.0</td>\n",
       "    </tr>\n",
       "    <tr>\n",
       "      <td>14</td>\n",
       "      <td>hour_min</td>\n",
       "      <td>0.0</td>\n",
       "    </tr>\n",
       "    <tr>\n",
       "      <td>13</td>\n",
       "      <td>hour_max</td>\n",
       "      <td>0.0</td>\n",
       "    </tr>\n",
       "  </tbody>\n",
       "</table>\n",
       "</div>"
      ],
      "text/plain": [
       "            name  score\n",
       "35         y_max  862.2\n",
       "31         x_min  857.0\n",
       "36   y_max_x_min  763.0\n",
       "29   x_max_y_min  680.0\n",
       "23         v_std  650.4\n",
       "39         y_min  615.4\n",
       "32        x_skew  558.8\n",
       "27         x_max  555.0\n",
       "22        v_skew  520.4\n",
       "40        y_skew  508.8\n",
       "18         slope  481.8\n",
       "30        x_mean  479.6\n",
       "38        y_mean  464.0\n",
       "5          d_std  455.2\n",
       "11     diff_time  440.0\n",
       "20        v_mean  437.6\n",
       "2         d_mean  423.0\n",
       "33         x_std  403.4\n",
       "19         v_max  390.2\n",
       "41         y_std  350.6\n",
       "4         d_skew  343.0\n",
       "6          d_sum  341.6\n",
       "24         v_sum  332.6\n",
       "26       x_count  321.2\n",
       "37   y_max_y_min  318.6\n",
       "28   x_max_x_min  298.8\n",
       "0           area  271.4\n",
       "42         y_sum  270.0\n",
       "34         x_sum  268.0\n",
       "16     mode_hour  237.0\n",
       "1          d_max  196.6\n",
       "8            day  163.2\n",
       "21         v_min   69.0\n",
       "10   diff_second   59.0\n",
       "12          hour   32.4\n",
       "7   date_nunique   27.2\n",
       "25       weekday   22.8\n",
       "3          d_min   20.0\n",
       "9       diff_day   11.4\n",
       "17         month    7.8\n",
       "15  hour_nunique    0.0\n",
       "14      hour_min    0.0\n",
       "13      hour_max    0.0"
      ]
     },
     "execution_count": 238,
     "metadata": {},
     "output_type": "execute_result"
    }
   ],
   "source": [
    "df"
   ]
  },
  {
   "cell_type": "markdown",
   "metadata": {},
   "source": [
    "### XGBRegressor"
   ]
  },
  {
   "cell_type": "code",
   "execution_count": 242,
   "metadata": {},
   "outputs": [
    {
     "ename": "ModuleNotFoundError",
     "evalue": "No module named 'xgboost'",
     "output_type": "error",
     "traceback": [
      "\u001b[1;31m---------------------------------------------------------------------------\u001b[0m",
      "\u001b[1;31mModuleNotFoundError\u001b[0m                       Traceback (most recent call last)",
      "\u001b[1;32m<ipython-input-242-2ffb8fc4a03d>\u001b[0m in \u001b[0;36m<module>\u001b[1;34m\u001b[0m\n\u001b[1;32m----> 1\u001b[1;33m \u001b[1;32mfrom\u001b[0m \u001b[0mxgboost\u001b[0m \u001b[1;32mimport\u001b[0m \u001b[0mXGBRegressor\u001b[0m\u001b[1;33m\u001b[0m\u001b[1;33m\u001b[0m\u001b[0m\n\u001b[0m\u001b[0;32m      2\u001b[0m \u001b[1;32mfrom\u001b[0m \u001b[0mxgboost\u001b[0m \u001b[1;32mimport\u001b[0m \u001b[0mplot_importance\u001b[0m\u001b[1;33m\u001b[0m\u001b[1;33m\u001b[0m\u001b[0m\n",
      "\u001b[1;31mModuleNotFoundError\u001b[0m: No module named 'xgboost'"
     ]
    }
   ],
   "source": [
    "from xgboost import XGBRegressor\n",
    "from xgboost import plot_importance"
   ]
  },
  {
   "cell_type": "code",
   "execution_count": 241,
   "metadata": {},
   "outputs": [
    {
     "ename": "NameError",
     "evalue": "name 'XGBRegressor' is not defined",
     "output_type": "error",
     "traceback": [
      "\u001b[1;31m---------------------------------------------------------------------------\u001b[0m",
      "\u001b[1;31mNameError\u001b[0m                                 Traceback (most recent call last)",
      "\u001b[1;32m<ipython-input-241-781c4df1d87e>\u001b[0m in \u001b[0;36m<module>\u001b[1;34m\u001b[0m\n\u001b[1;32m----> 1\u001b[1;33m model = XGBRegressor(\n\u001b[0m\u001b[0;32m      2\u001b[0m     \u001b[0mmax_depth\u001b[0m\u001b[1;33m=\u001b[0m\u001b[1;36m8\u001b[0m\u001b[1;33m,\u001b[0m\u001b[1;33m\u001b[0m\u001b[1;33m\u001b[0m\u001b[0m\n\u001b[0;32m      3\u001b[0m     \u001b[0mn_estimators\u001b[0m\u001b[1;33m=\u001b[0m\u001b[1;36m1000\u001b[0m\u001b[1;33m,\u001b[0m\u001b[1;33m\u001b[0m\u001b[1;33m\u001b[0m\u001b[0m\n\u001b[0;32m      4\u001b[0m     \u001b[0mmin_child_weight\u001b[0m\u001b[1;33m=\u001b[0m\u001b[1;36m300\u001b[0m\u001b[1;33m,\u001b[0m\u001b[1;33m\u001b[0m\u001b[1;33m\u001b[0m\u001b[0m\n\u001b[0;32m      5\u001b[0m     \u001b[0mcolsample_bytree\u001b[0m\u001b[1;33m=\u001b[0m\u001b[1;36m0.8\u001b[0m\u001b[1;33m,\u001b[0m\u001b[1;33m\u001b[0m\u001b[1;33m\u001b[0m\u001b[0m\n",
      "\u001b[1;31mNameError\u001b[0m: name 'XGBRegressor' is not defined"
     ]
    }
   ],
   "source": [
    "model = XGBRegressor(\n",
    "    'objective': 'multi:softmax', \n",
    "    'num_class':10, # 类数，与 multisoftmax 并用\n",
    "    max_depth=8,\n",
    "    n_estimators=1000,\n",
    "    min_child_weight=300, \n",
    "    colsample_bytree=0.8, \n",
    "    subsample=0.8, \n",
    "    eta=0.3,    \n",
    "    seed=42)\n",
    "\n",
    "model.fit(\n",
    "    X, \n",
    "    y, \n",
    "    eval_metric=\"rmse\", \n",
    "    eval_set=[(X_train, Y_train), (X_valid, Y_valid)], \n",
    "    verbose=True, \n",
    "    early_stopping_rounds = 10)"
   ]
  },
  {
   "cell_type": "code",
   "execution_count": null,
   "metadata": {},
   "outputs": [],
   "source": []
  }
 ],
 "metadata": {
  "kernelspec": {
   "display_name": "Python 3",
   "language": "python",
   "name": "python3"
  },
  "language_info": {
   "codemirror_mode": {
    "name": "ipython",
    "version": 3
   },
   "file_extension": ".py",
   "mimetype": "text/x-python",
   "name": "python",
   "nbconvert_exporter": "python",
   "pygments_lexer": "ipython3",
   "version": "3.7.4"
  }
 },
 "nbformat": 4,
 "nbformat_minor": 4
}
